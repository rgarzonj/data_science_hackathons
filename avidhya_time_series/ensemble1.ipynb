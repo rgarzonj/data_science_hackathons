{
 "cells": [
  {
   "cell_type": "code",
   "execution_count": 24,
   "metadata": {},
   "outputs": [
    {
     "name": "stderr",
     "output_type": "stream",
     "text": [
      "/Users/rgarzon/anaconda3/envs/vinya/lib/python3.7/site-packages/ipykernel/ipkernel.py:287: DeprecationWarning: `should_run_async` will not call `transform_cell` automatically in the future. Please pass the result to `transformed_cell` argument and any exception that happen during thetransform in `preprocessing_exc_tuple` in IPython 7.17 and above.\n",
      "  and should_run_async(code)\n"
     ]
    }
   ],
   "source": [
    "import pandas as pd\n",
    "import matplotlib.pyplot as plt\n",
    "import seaborn as sns\n",
    "%matplotlib inline\n",
    "from lightgbm import LGBMRegressor\n",
    "from mlflow import log_metric, log_param, log_artifacts\n",
    "import mlflow\n",
    "import mlflow.lightgbm\n",
    "import lightgbm as lgb\n",
    "\n",
    "from sklearn.model_selection import TimeSeriesSplit"
   ]
  },
  {
   "cell_type": "code",
   "execution_count": null,
   "metadata": {},
   "outputs": [],
   "source": []
  },
  {
   "cell_type": "code",
   "execution_count": 25,
   "metadata": {},
   "outputs": [],
   "source": [
    "ss = pd.read_csv('./content/SampleSubmission_ZxsCq0O.csv')\n",
    "train = pd.read_csv('./content/Train_awoL0xl.csv')\n",
    "test = pd.read_csv('./content/Test_QQKW4dv.csv')\n"
   ]
  },
  {
   "cell_type": "code",
   "execution_count": 26,
   "metadata": {},
   "outputs": [],
   "source": [
    "ID_COL,TARGET_COL = 'ID','Close'"
   ]
  },
  {
   "cell_type": "code",
   "execution_count": 27,
   "metadata": {},
   "outputs": [],
   "source": [
    "from sklearn.metrics import mean_squared_error\n",
    "\n",
    "def rmse(y_true, y_pred):\n",
    "  return mean_squared_error(y_true, y_pred) ** 0.5"
   ]
  },
  {
   "cell_type": "code",
   "execution_count": 28,
   "metadata": {},
   "outputs": [],
   "source": [
    "def download_preds(preds_test, file_name = 'hacklive_sub.csv'):\n",
    "\n",
    "  ## 1. Setting the target column with our obtained predictions\n",
    "  ss[TARGET_COL] = preds_test\n",
    "\n",
    "  ## 2. Saving our predictions to a csv file\n",
    "\n",
    "  ss.to_csv(file_name, index = False)\n",
    "\n",
    "  ## 3. Downloading and submitting the csv file\n",
    "#  from google.colab import files\n",
    "#  files.download(file_name)"
   ]
  },
  {
   "cell_type": "code",
   "execution_count": 29,
   "metadata": {},
   "outputs": [],
   "source": [
    "df = pd.concat([train,test],axis=0).reset_index(drop=True)"
   ]
  },
  {
   "cell_type": "code",
   "execution_count": 30,
   "metadata": {},
   "outputs": [
    {
     "name": "stderr",
     "output_type": "stream",
     "text": [
      "/Users/rgarzon/anaconda3/envs/vinya/lib/python3.7/site-packages/ipykernel_launcher.py:3: FutureWarning: Series.dt.weekofyear and Series.dt.week have been deprecated.  Please use Series.dt.isocalendar().week instead.\n",
      "  This is separate from the ipykernel package so we can avoid doing imports until\n"
     ]
    }
   ],
   "source": [
    "df['Date'] = pd.to_datetime(df['Date'])\n",
    "for attr in ['year','month','day','week','dayofweek']:\n",
    "    df[attr] = getattr(df['Date'].dt,attr)"
   ]
  },
  {
   "cell_type": "code",
   "execution_count": null,
   "metadata": {},
   "outputs": [],
   "source": []
  },
  {
   "cell_type": "code",
   "execution_count": 31,
   "metadata": {},
   "outputs": [],
   "source": [
    "df['prev_1'] = df.iloc[:,-2] #Here -2 as -1 is a target"
   ]
  },
  {
   "cell_type": "code",
   "execution_count": 32,
   "metadata": {},
   "outputs": [],
   "source": [
    "for win in [2, 3, 5, 7, 10, 14, 21, 28, 56]:\n",
    "    tmp = df.iloc[:,-1-win:-1]\n",
    "    #General statistics for base level\n",
    "    df['mean_prev_{}'.format(win)] = tmp.mean(axis=1)\n",
    "    df['median_prev_{}'.format(win)] = tmp.median(axis=1)\n",
    "    df['min_prev_{}'.format(win)] = tmp.min(axis=1)\n",
    "    df['max_prev_{}'.format(win)] = tmp.max(axis=1)\n",
    "    df['std_prev_{}'.format(win)] = tmp.std(axis=1)\n",
    "    #Capturing trend\n",
    "    df['mean_ewm_prev_{}'.format(win)] = tmp.T.ewm(com=9.5).mean().T.mean(axis=1)\n",
    "    df['last_ewm_prev_{}'.format(win)] = tmp.T.ewm(com=9.5).mean().T.iloc[:,-1]\n",
    "    \n",
    "    df['avg_diff_{}'.format(win)] = (tmp - tmp.shift(1, axis=1)).mean(axis=1)\n",
    "    df['avg_div_{}'.format(win)] =  (tmp / tmp.shift(1, axis=1)).mean(axis=1)"
   ]
  },
  {
   "cell_type": "code",
   "execution_count": 33,
   "metadata": {},
   "outputs": [],
   "source": [
    "for win in [2, 3, 4, 8]:\n",
    "    tmp = df.iloc[:,-1-win*7:-1:7] #7 for week\n",
    "    #Features for weekly seasonality\n",
    "    df['week_mean_prev_{}'.format(win)] = tmp.mean(axis=1)\n",
    "    df['week_median_prev_{}'.format(win)] = tmp.median(axis=1)\n",
    "    df['week_min_prev_{}'.format(win)] = tmp.min(axis=1)\n",
    "    df['week_max_prev_{}'.format(win)] = tmp.max(axis=1)\n",
    "    df['week_std_prev_{}'.format(win)] = tmp.std(axis=1)"
   ]
  },
  {
   "cell_type": "code",
   "execution_count": 34,
   "metadata": {},
   "outputs": [],
   "source": [
    "train,test = df[:train.shape[0]].reset_index(drop=True),df[train.shape[0]:].reset_index(drop=True)"
   ]
  },
  {
   "cell_type": "code",
   "execution_count": 35,
   "metadata": {},
   "outputs": [],
   "source": [
    "features = ['stock','holiday', 'unpredictability_score', 'year','month','day','week','dayofweek']"
   ]
  },
  {
   "cell_type": "code",
   "execution_count": 36,
   "metadata": {},
   "outputs": [],
   "source": [
    "features = ['stock','holiday', 'unpredictability_score', 'year','month','day','week','dayofweek',\n",
    "            'unpredictability_score', 'prev_1', 'mean_prev_2', 'median_prev_2',\n",
    "       'min_prev_2', 'max_prev_2', 'std_prev_2', 'mean_ewm_prev_2',\n",
    "       'last_ewm_prev_2', 'avg_diff_2', 'avg_div_2', 'mean_prev_3',\n",
    "       'median_prev_3', 'min_prev_3', 'max_prev_3', 'std_prev_3',\n",
    "       'mean_ewm_prev_3', 'last_ewm_prev_3', 'avg_diff_3', 'avg_div_3',\n",
    "       'mean_prev_5', 'median_prev_5', 'min_prev_5', 'max_prev_5',\n",
    "       'std_prev_5', 'mean_ewm_prev_5', 'last_ewm_prev_5', 'avg_diff_5',\n",
    "       'avg_div_5', 'mean_prev_7', 'median_prev_7', 'min_prev_7', 'max_prev_7',\n",
    "       'std_prev_7', 'mean_ewm_prev_7', 'last_ewm_prev_7', 'avg_diff_7',\n",
    "       'avg_div_7', 'mean_prev_10', 'median_prev_10', 'min_prev_10',\n",
    "       'max_prev_10', 'std_prev_10', 'mean_ewm_prev_10', 'last_ewm_prev_10',\n",
    "       'avg_diff_10', 'avg_div_10', 'mean_prev_14', 'median_prev_14',\n",
    "       'min_prev_14', 'max_prev_14', 'std_prev_14', 'mean_ewm_prev_14',\n",
    "       'last_ewm_prev_14', 'avg_diff_14', 'avg_div_14', 'mean_prev_21',\n",
    "       'median_prev_21', 'min_prev_21', 'max_prev_21', 'std_prev_21',\n",
    "       'mean_ewm_prev_21', 'last_ewm_prev_21', 'avg_diff_21', 'avg_div_21',\n",
    "       'mean_prev_28', 'median_prev_28', 'min_prev_28', 'max_prev_28',\n",
    "       'std_prev_28', 'mean_ewm_prev_28', 'last_ewm_prev_28', 'avg_diff_28',\n",
    "       'avg_div_28', 'mean_prev_56', 'median_prev_56', 'min_prev_56',\n",
    "       'max_prev_56', 'std_prev_56', 'mean_ewm_prev_56', 'last_ewm_prev_56',\n",
    "       'avg_diff_56', 'avg_div_56', 'week_mean_prev_2', 'week_median_prev_2',\n",
    "       'week_min_prev_2', 'week_max_prev_2', 'week_std_prev_2',\n",
    "       'week_mean_prev_3', 'week_median_prev_3', 'week_min_prev_3',\n",
    "       'week_max_prev_3', 'week_std_prev_3', 'week_mean_prev_4',\n",
    "       'week_median_prev_4', 'week_min_prev_4', 'week_max_prev_4',\n",
    "       'week_std_prev_4', 'week_mean_prev_8', 'week_median_prev_8',\n",
    "       'week_min_prev_8', 'week_max_prev_8', 'week_std_prev_8']"
   ]
  },
  {
   "cell_type": "code",
   "execution_count": 37,
   "metadata": {},
   "outputs": [],
   "source": [
    "FIRST_TRAINING_DAY = train['Date'].min()\n",
    "DAYS_TO_VALIDATE = pd.Timedelta(days=200)\n",
    "VAL_LAST_DAY = FIRST_TRAINING_DAY + DAYS_TO_VALIDATE\n",
    "VAL_LAST_DAY - FIRST_TRAINING_DAY\n",
    "\n",
    "val_fltr = train['Date']<= VAL_LAST_DAY\n",
    "trn,val = train[~val_fltr].reset_index(drop=True),train[val_fltr].reset_index(drop=True)"
   ]
  },
  {
   "cell_type": "code",
   "execution_count": 38,
   "metadata": {},
   "outputs": [],
   "source": [
    "clf = LGBMRegressor (n_estimators=30000)"
   ]
  },
  {
   "cell_type": "code",
   "execution_count": 39,
   "metadata": {
    "scrolled": true
   },
   "outputs": [
    {
     "name": "stdout",
     "output_type": "stream",
     "text": [
      "Training until validation scores don't improve for 200 rounds\n",
      "[50]\tvalid_0's rmse: 6.43471\tvalid_0's l2: 41.4055\n",
      "[100]\tvalid_0's rmse: 3.80129\tvalid_0's l2: 14.4498\n",
      "[150]\tvalid_0's rmse: 2.98742\tvalid_0's l2: 8.92468\n",
      "[200]\tvalid_0's rmse: 2.60904\tvalid_0's l2: 6.80709\n",
      "[250]\tvalid_0's rmse: 2.3193\tvalid_0's l2: 5.37917\n",
      "[300]\tvalid_0's rmse: 2.04812\tvalid_0's l2: 4.19478\n",
      "[350]\tvalid_0's rmse: 1.85418\tvalid_0's l2: 3.43799\n",
      "[400]\tvalid_0's rmse: 1.74345\tvalid_0's l2: 3.03961\n",
      "[450]\tvalid_0's rmse: 1.66597\tvalid_0's l2: 2.77546\n",
      "[500]\tvalid_0's rmse: 1.59998\tvalid_0's l2: 2.55994\n",
      "[550]\tvalid_0's rmse: 1.54522\tvalid_0's l2: 2.3877\n",
      "[600]\tvalid_0's rmse: 1.49699\tvalid_0's l2: 2.24098\n",
      "[650]\tvalid_0's rmse: 1.40981\tvalid_0's l2: 1.98756\n",
      "[700]\tvalid_0's rmse: 1.35847\tvalid_0's l2: 1.84545\n",
      "[750]\tvalid_0's rmse: 1.28097\tvalid_0's l2: 1.64087\n",
      "[800]\tvalid_0's rmse: 1.25718\tvalid_0's l2: 1.58051\n",
      "[850]\tvalid_0's rmse: 1.21588\tvalid_0's l2: 1.47836\n",
      "[900]\tvalid_0's rmse: 1.18221\tvalid_0's l2: 1.39762\n",
      "[950]\tvalid_0's rmse: 1.15053\tvalid_0's l2: 1.32372\n",
      "[1000]\tvalid_0's rmse: 1.12246\tvalid_0's l2: 1.25993\n",
      "[1050]\tvalid_0's rmse: 1.08223\tvalid_0's l2: 1.17121\n",
      "[1100]\tvalid_0's rmse: 1.04613\tvalid_0's l2: 1.0944\n",
      "[1150]\tvalid_0's rmse: 1.0208\tvalid_0's l2: 1.04203\n",
      "[1200]\tvalid_0's rmse: 1.00375\tvalid_0's l2: 1.00752\n",
      "[1250]\tvalid_0's rmse: 0.979118\tvalid_0's l2: 0.958672\n",
      "[1300]\tvalid_0's rmse: 0.969932\tvalid_0's l2: 0.940769\n",
      "[1350]\tvalid_0's rmse: 0.95158\tvalid_0's l2: 0.905504\n",
      "[1400]\tvalid_0's rmse: 0.934915\tvalid_0's l2: 0.874067\n",
      "[1450]\tvalid_0's rmse: 0.922328\tvalid_0's l2: 0.850689\n",
      "[1500]\tvalid_0's rmse: 0.912998\tvalid_0's l2: 0.833566\n",
      "[1550]\tvalid_0's rmse: 0.905019\tvalid_0's l2: 0.81906\n",
      "[1600]\tvalid_0's rmse: 0.893995\tvalid_0's l2: 0.799228\n",
      "[1650]\tvalid_0's rmse: 0.88288\tvalid_0's l2: 0.779477\n",
      "[1700]\tvalid_0's rmse: 0.872072\tvalid_0's l2: 0.76051\n",
      "[1750]\tvalid_0's rmse: 0.863548\tvalid_0's l2: 0.745715\n",
      "[1800]\tvalid_0's rmse: 0.846972\tvalid_0's l2: 0.717362\n",
      "[1850]\tvalid_0's rmse: 0.838472\tvalid_0's l2: 0.703035\n",
      "[1900]\tvalid_0's rmse: 0.815466\tvalid_0's l2: 0.664984\n",
      "[1950]\tvalid_0's rmse: 0.803173\tvalid_0's l2: 0.645087\n",
      "[2000]\tvalid_0's rmse: 0.789666\tvalid_0's l2: 0.623573\n",
      "[2050]\tvalid_0's rmse: 0.782737\tvalid_0's l2: 0.612678\n",
      "[2100]\tvalid_0's rmse: 0.775529\tvalid_0's l2: 0.601445\n",
      "[2150]\tvalid_0's rmse: 0.771399\tvalid_0's l2: 0.595056\n",
      "[2200]\tvalid_0's rmse: 0.756412\tvalid_0's l2: 0.572159\n",
      "[2250]\tvalid_0's rmse: 0.749529\tvalid_0's l2: 0.561794\n",
      "[2300]\tvalid_0's rmse: 0.743657\tvalid_0's l2: 0.553026\n",
      "[2350]\tvalid_0's rmse: 0.738816\tvalid_0's l2: 0.545848\n",
      "[2400]\tvalid_0's rmse: 0.734445\tvalid_0's l2: 0.539409\n",
      "[2450]\tvalid_0's rmse: 0.726851\tvalid_0's l2: 0.528312\n",
      "[2500]\tvalid_0's rmse: 0.720943\tvalid_0's l2: 0.519759\n",
      "[2550]\tvalid_0's rmse: 0.711177\tvalid_0's l2: 0.505773\n",
      "[2600]\tvalid_0's rmse: 0.700553\tvalid_0's l2: 0.490775\n",
      "[2650]\tvalid_0's rmse: 0.694436\tvalid_0's l2: 0.482242\n",
      "[2700]\tvalid_0's rmse: 0.683739\tvalid_0's l2: 0.467499\n",
      "[2750]\tvalid_0's rmse: 0.676012\tvalid_0's l2: 0.456992\n",
      "[2800]\tvalid_0's rmse: 0.666611\tvalid_0's l2: 0.44437\n",
      "[2850]\tvalid_0's rmse: 0.664055\tvalid_0's l2: 0.440969\n",
      "[2900]\tvalid_0's rmse: 0.66048\tvalid_0's l2: 0.436234\n",
      "[2950]\tvalid_0's rmse: 0.655986\tvalid_0's l2: 0.430318\n",
      "[3000]\tvalid_0's rmse: 0.651943\tvalid_0's l2: 0.425029\n",
      "[3050]\tvalid_0's rmse: 0.644702\tvalid_0's l2: 0.41564\n",
      "[3100]\tvalid_0's rmse: 0.639497\tvalid_0's l2: 0.408957\n",
      "[3150]\tvalid_0's rmse: 0.63438\tvalid_0's l2: 0.402438\n",
      "[3200]\tvalid_0's rmse: 0.631785\tvalid_0's l2: 0.399152\n",
      "[3250]\tvalid_0's rmse: 0.628023\tvalid_0's l2: 0.394413\n",
      "[3300]\tvalid_0's rmse: 0.624194\tvalid_0's l2: 0.389618\n",
      "[3350]\tvalid_0's rmse: 0.618689\tvalid_0's l2: 0.382776\n",
      "[3400]\tvalid_0's rmse: 0.614549\tvalid_0's l2: 0.377671\n",
      "[3450]\tvalid_0's rmse: 0.60915\tvalid_0's l2: 0.371063\n",
      "[3500]\tvalid_0's rmse: 0.603759\tvalid_0's l2: 0.364525\n",
      "[3550]\tvalid_0's rmse: 0.598292\tvalid_0's l2: 0.357954\n",
      "[3600]\tvalid_0's rmse: 0.594826\tvalid_0's l2: 0.353818\n",
      "[3650]\tvalid_0's rmse: 0.592661\tvalid_0's l2: 0.351247\n",
      "[3700]\tvalid_0's rmse: 0.589946\tvalid_0's l2: 0.348036\n",
      "[3750]\tvalid_0's rmse: 0.58742\tvalid_0's l2: 0.345063\n",
      "[3800]\tvalid_0's rmse: 0.584621\tvalid_0's l2: 0.341782\n",
      "[3850]\tvalid_0's rmse: 0.582836\tvalid_0's l2: 0.339698\n",
      "[3900]\tvalid_0's rmse: 0.581466\tvalid_0's l2: 0.338102\n",
      "[3950]\tvalid_0's rmse: 0.578015\tvalid_0's l2: 0.334102\n",
      "[4000]\tvalid_0's rmse: 0.573832\tvalid_0's l2: 0.329283\n",
      "[4050]\tvalid_0's rmse: 0.570109\tvalid_0's l2: 0.325024\n",
      "[4100]\tvalid_0's rmse: 0.566484\tvalid_0's l2: 0.320904\n",
      "[4150]\tvalid_0's rmse: 0.561344\tvalid_0's l2: 0.315107\n",
      "[4200]\tvalid_0's rmse: 0.557778\tvalid_0's l2: 0.311116\n",
      "[4250]\tvalid_0's rmse: 0.555292\tvalid_0's l2: 0.308349\n",
      "[4300]\tvalid_0's rmse: 0.5507\tvalid_0's l2: 0.30327\n",
      "[4350]\tvalid_0's rmse: 0.547254\tvalid_0's l2: 0.299487\n",
      "[4400]\tvalid_0's rmse: 0.545233\tvalid_0's l2: 0.297279\n",
      "[4450]\tvalid_0's rmse: 0.54145\tvalid_0's l2: 0.293168\n",
      "[4500]\tvalid_0's rmse: 0.537683\tvalid_0's l2: 0.289103\n",
      "[4550]\tvalid_0's rmse: 0.535661\tvalid_0's l2: 0.286933\n",
      "[4600]\tvalid_0's rmse: 0.533272\tvalid_0's l2: 0.284379\n",
      "[4650]\tvalid_0's rmse: 0.529919\tvalid_0's l2: 0.280815\n",
      "[4700]\tvalid_0's rmse: 0.528547\tvalid_0's l2: 0.279362\n",
      "[4750]\tvalid_0's rmse: 0.526802\tvalid_0's l2: 0.27752\n",
      "[4800]\tvalid_0's rmse: 0.524434\tvalid_0's l2: 0.275031\n",
      "[4850]\tvalid_0's rmse: 0.522479\tvalid_0's l2: 0.272984\n",
      "[4900]\tvalid_0's rmse: 0.520583\tvalid_0's l2: 0.271007\n",
      "[4950]\tvalid_0's rmse: 0.518609\tvalid_0's l2: 0.268955\n",
      "[5000]\tvalid_0's rmse: 0.516204\tvalid_0's l2: 0.266466\n",
      "[5050]\tvalid_0's rmse: 0.515195\tvalid_0's l2: 0.265426\n",
      "[5100]\tvalid_0's rmse: 0.513862\tvalid_0's l2: 0.264054\n",
      "[5150]\tvalid_0's rmse: 0.511819\tvalid_0's l2: 0.261959\n",
      "[5200]\tvalid_0's rmse: 0.5096\tvalid_0's l2: 0.259692\n",
      "[5250]\tvalid_0's rmse: 0.507523\tvalid_0's l2: 0.257579\n",
      "[5300]\tvalid_0's rmse: 0.505897\tvalid_0's l2: 0.255932\n",
      "[5350]\tvalid_0's rmse: 0.504032\tvalid_0's l2: 0.254048\n",
      "[5400]\tvalid_0's rmse: 0.501953\tvalid_0's l2: 0.251956\n",
      "[5450]\tvalid_0's rmse: 0.500722\tvalid_0's l2: 0.250723\n",
      "[5500]\tvalid_0's rmse: 0.49867\tvalid_0's l2: 0.248672\n",
      "[5550]\tvalid_0's rmse: 0.497097\tvalid_0's l2: 0.247106\n",
      "[5600]\tvalid_0's rmse: 0.493258\tvalid_0's l2: 0.243303\n",
      "[5650]\tvalid_0's rmse: 0.490754\tvalid_0's l2: 0.240839\n",
      "[5700]\tvalid_0's rmse: 0.488256\tvalid_0's l2: 0.238394\n",
      "[5750]\tvalid_0's rmse: 0.486257\tvalid_0's l2: 0.236446\n",
      "[5800]\tvalid_0's rmse: 0.484018\tvalid_0's l2: 0.234274\n",
      "[5850]\tvalid_0's rmse: 0.482837\tvalid_0's l2: 0.233132\n",
      "[5900]\tvalid_0's rmse: 0.480623\tvalid_0's l2: 0.230999\n",
      "[5950]\tvalid_0's rmse: 0.479617\tvalid_0's l2: 0.230032\n",
      "[6000]\tvalid_0's rmse: 0.478693\tvalid_0's l2: 0.229147\n",
      "[6050]\tvalid_0's rmse: 0.477507\tvalid_0's l2: 0.228013\n",
      "[6100]\tvalid_0's rmse: 0.476363\tvalid_0's l2: 0.226922\n",
      "[6150]\tvalid_0's rmse: 0.475441\tvalid_0's l2: 0.226045\n",
      "[6200]\tvalid_0's rmse: 0.474058\tvalid_0's l2: 0.224731\n",
      "[6250]\tvalid_0's rmse: 0.472467\tvalid_0's l2: 0.223225\n",
      "[6300]\tvalid_0's rmse: 0.470776\tvalid_0's l2: 0.22163\n",
      "[6350]\tvalid_0's rmse: 0.469163\tvalid_0's l2: 0.220114\n",
      "[6400]\tvalid_0's rmse: 0.467213\tvalid_0's l2: 0.218288\n",
      "[6450]\tvalid_0's rmse: 0.465833\tvalid_0's l2: 0.217\n",
      "[6500]\tvalid_0's rmse: 0.464382\tvalid_0's l2: 0.21565\n",
      "[6550]\tvalid_0's rmse: 0.462612\tvalid_0's l2: 0.21401\n",
      "[6600]\tvalid_0's rmse: 0.461547\tvalid_0's l2: 0.213025\n",
      "[6650]\tvalid_0's rmse: 0.460228\tvalid_0's l2: 0.21181\n",
      "[6700]\tvalid_0's rmse: 0.457276\tvalid_0's l2: 0.209101\n",
      "[6750]\tvalid_0's rmse: 0.455639\tvalid_0's l2: 0.207607\n",
      "[6800]\tvalid_0's rmse: 0.454332\tvalid_0's l2: 0.206417\n",
      "[6850]\tvalid_0's rmse: 0.453347\tvalid_0's l2: 0.205523\n",
      "[6900]\tvalid_0's rmse: 0.45191\tvalid_0's l2: 0.204222\n",
      "[6950]\tvalid_0's rmse: 0.450863\tvalid_0's l2: 0.203278\n",
      "[7000]\tvalid_0's rmse: 0.449455\tvalid_0's l2: 0.20201\n",
      "[7050]\tvalid_0's rmse: 0.448214\tvalid_0's l2: 0.200895\n",
      "[7100]\tvalid_0's rmse: 0.446465\tvalid_0's l2: 0.199331\n",
      "[7150]\tvalid_0's rmse: 0.444233\tvalid_0's l2: 0.197343\n",
      "[7200]\tvalid_0's rmse: 0.442374\tvalid_0's l2: 0.195695\n",
      "[7250]\tvalid_0's rmse: 0.440513\tvalid_0's l2: 0.194052\n",
      "[7300]\tvalid_0's rmse: 0.439052\tvalid_0's l2: 0.192766\n",
      "[7350]\tvalid_0's rmse: 0.436582\tvalid_0's l2: 0.190604\n",
      "[7400]\tvalid_0's rmse: 0.435396\tvalid_0's l2: 0.18957\n",
      "[7450]\tvalid_0's rmse: 0.434265\tvalid_0's l2: 0.188586\n",
      "[7500]\tvalid_0's rmse: 0.433036\tvalid_0's l2: 0.18752\n"
     ]
    },
    {
     "name": "stdout",
     "output_type": "stream",
     "text": [
      "[7550]\tvalid_0's rmse: 0.431245\tvalid_0's l2: 0.185973\n",
      "[7600]\tvalid_0's rmse: 0.430421\tvalid_0's l2: 0.185262\n",
      "[7650]\tvalid_0's rmse: 0.429514\tvalid_0's l2: 0.184482\n",
      "[7700]\tvalid_0's rmse: 0.427627\tvalid_0's l2: 0.182865\n",
      "[7750]\tvalid_0's rmse: 0.426218\tvalid_0's l2: 0.181661\n",
      "[7800]\tvalid_0's rmse: 0.425313\tvalid_0's l2: 0.180891\n",
      "[7850]\tvalid_0's rmse: 0.424133\tvalid_0's l2: 0.179889\n",
      "[7900]\tvalid_0's rmse: 0.422165\tvalid_0's l2: 0.178224\n",
      "[7950]\tvalid_0's rmse: 0.420955\tvalid_0's l2: 0.177203\n",
      "[8000]\tvalid_0's rmse: 0.420169\tvalid_0's l2: 0.176542\n",
      "[8050]\tvalid_0's rmse: 0.417732\tvalid_0's l2: 0.1745\n",
      "[8100]\tvalid_0's rmse: 0.416279\tvalid_0's l2: 0.173289\n",
      "[8150]\tvalid_0's rmse: 0.415189\tvalid_0's l2: 0.172382\n",
      "[8200]\tvalid_0's rmse: 0.412508\tvalid_0's l2: 0.170163\n",
      "[8250]\tvalid_0's rmse: 0.411054\tvalid_0's l2: 0.168965\n",
      "[8300]\tvalid_0's rmse: 0.409398\tvalid_0's l2: 0.167607\n",
      "[8350]\tvalid_0's rmse: 0.408284\tvalid_0's l2: 0.166696\n",
      "[8400]\tvalid_0's rmse: 0.405468\tvalid_0's l2: 0.164404\n",
      "[8450]\tvalid_0's rmse: 0.403782\tvalid_0's l2: 0.16304\n",
      "[8500]\tvalid_0's rmse: 0.402852\tvalid_0's l2: 0.16229\n",
      "[8550]\tvalid_0's rmse: 0.401906\tvalid_0's l2: 0.161529\n",
      "[8600]\tvalid_0's rmse: 0.400952\tvalid_0's l2: 0.160763\n",
      "[8650]\tvalid_0's rmse: 0.399369\tvalid_0's l2: 0.159496\n",
      "[8700]\tvalid_0's rmse: 0.398252\tvalid_0's l2: 0.158605\n",
      "[8750]\tvalid_0's rmse: 0.397816\tvalid_0's l2: 0.158257\n",
      "[8800]\tvalid_0's rmse: 0.397084\tvalid_0's l2: 0.157676\n",
      "[8850]\tvalid_0's rmse: 0.396238\tvalid_0's l2: 0.157005\n",
      "[8900]\tvalid_0's rmse: 0.39495\tvalid_0's l2: 0.155986\n",
      "[8950]\tvalid_0's rmse: 0.394363\tvalid_0's l2: 0.155522\n",
      "[9000]\tvalid_0's rmse: 0.393366\tvalid_0's l2: 0.154737\n",
      "[9050]\tvalid_0's rmse: 0.392402\tvalid_0's l2: 0.153979\n",
      "[9100]\tvalid_0's rmse: 0.390548\tvalid_0's l2: 0.152528\n",
      "[9150]\tvalid_0's rmse: 0.390027\tvalid_0's l2: 0.152121\n",
      "[9200]\tvalid_0's rmse: 0.389131\tvalid_0's l2: 0.151423\n",
      "[9250]\tvalid_0's rmse: 0.388057\tvalid_0's l2: 0.150588\n",
      "[9300]\tvalid_0's rmse: 0.387177\tvalid_0's l2: 0.149906\n",
      "[9350]\tvalid_0's rmse: 0.386029\tvalid_0's l2: 0.149018\n",
      "[9400]\tvalid_0's rmse: 0.384401\tvalid_0's l2: 0.147764\n",
      "[9450]\tvalid_0's rmse: 0.383367\tvalid_0's l2: 0.146971\n",
      "[9500]\tvalid_0's rmse: 0.38245\tvalid_0's l2: 0.146268\n",
      "[9550]\tvalid_0's rmse: 0.38153\tvalid_0's l2: 0.145565\n",
      "[9600]\tvalid_0's rmse: 0.38057\tvalid_0's l2: 0.144834\n",
      "[9650]\tvalid_0's rmse: 0.379772\tvalid_0's l2: 0.144226\n",
      "[9700]\tvalid_0's rmse: 0.379471\tvalid_0's l2: 0.143999\n",
      "[9750]\tvalid_0's rmse: 0.378389\tvalid_0's l2: 0.143178\n",
      "[9800]\tvalid_0's rmse: 0.377493\tvalid_0's l2: 0.142501\n",
      "[9850]\tvalid_0's rmse: 0.376441\tvalid_0's l2: 0.141708\n",
      "[9900]\tvalid_0's rmse: 0.375515\tvalid_0's l2: 0.141012\n",
      "[9950]\tvalid_0's rmse: 0.375016\tvalid_0's l2: 0.140637\n",
      "[10000]\tvalid_0's rmse: 0.37442\tvalid_0's l2: 0.14019\n",
      "[10050]\tvalid_0's rmse: 0.373812\tvalid_0's l2: 0.139735\n",
      "[10100]\tvalid_0's rmse: 0.372886\tvalid_0's l2: 0.139044\n",
      "[10150]\tvalid_0's rmse: 0.371931\tvalid_0's l2: 0.138332\n",
      "[10200]\tvalid_0's rmse: 0.371231\tvalid_0's l2: 0.137813\n",
      "[10250]\tvalid_0's rmse: 0.369824\tvalid_0's l2: 0.13677\n",
      "[10300]\tvalid_0's rmse: 0.36878\tvalid_0's l2: 0.135998\n",
      "[10350]\tvalid_0's rmse: 0.367485\tvalid_0's l2: 0.135045\n",
      "[10400]\tvalid_0's rmse: 0.366866\tvalid_0's l2: 0.134591\n",
      "[10450]\tvalid_0's rmse: 0.366047\tvalid_0's l2: 0.133991\n",
      "[10500]\tvalid_0's rmse: 0.365517\tvalid_0's l2: 0.133603\n",
      "[10550]\tvalid_0's rmse: 0.363715\tvalid_0's l2: 0.132289\n",
      "[10600]\tvalid_0's rmse: 0.363193\tvalid_0's l2: 0.131909\n",
      "[10650]\tvalid_0's rmse: 0.362769\tvalid_0's l2: 0.131601\n",
      "[10700]\tvalid_0's rmse: 0.361812\tvalid_0's l2: 0.130908\n",
      "[10750]\tvalid_0's rmse: 0.361031\tvalid_0's l2: 0.130343\n",
      "[10800]\tvalid_0's rmse: 0.360167\tvalid_0's l2: 0.12972\n",
      "[10850]\tvalid_0's rmse: 0.35923\tvalid_0's l2: 0.129046\n",
      "[10900]\tvalid_0's rmse: 0.358312\tvalid_0's l2: 0.128388\n",
      "[10950]\tvalid_0's rmse: 0.357147\tvalid_0's l2: 0.127554\n",
      "[11000]\tvalid_0's rmse: 0.35664\tvalid_0's l2: 0.127192\n",
      "[11050]\tvalid_0's rmse: 0.355862\tvalid_0's l2: 0.126638\n",
      "[11100]\tvalid_0's rmse: 0.354472\tvalid_0's l2: 0.125651\n",
      "[11150]\tvalid_0's rmse: 0.353664\tvalid_0's l2: 0.125078\n",
      "[11200]\tvalid_0's rmse: 0.352843\tvalid_0's l2: 0.124498\n",
      "[11250]\tvalid_0's rmse: 0.351339\tvalid_0's l2: 0.123439\n",
      "[11300]\tvalid_0's rmse: 0.349901\tvalid_0's l2: 0.12243\n",
      "[11350]\tvalid_0's rmse: 0.349366\tvalid_0's l2: 0.122057\n",
      "[11400]\tvalid_0's rmse: 0.348416\tvalid_0's l2: 0.121394\n",
      "[11450]\tvalid_0's rmse: 0.347839\tvalid_0's l2: 0.120992\n",
      "[11500]\tvalid_0's rmse: 0.346744\tvalid_0's l2: 0.120232\n",
      "[11550]\tvalid_0's rmse: 0.346033\tvalid_0's l2: 0.119739\n",
      "[11600]\tvalid_0's rmse: 0.345468\tvalid_0's l2: 0.119348\n",
      "[11650]\tvalid_0's rmse: 0.344853\tvalid_0's l2: 0.118924\n",
      "[11700]\tvalid_0's rmse: 0.344251\tvalid_0's l2: 0.118509\n",
      "[11750]\tvalid_0's rmse: 0.343663\tvalid_0's l2: 0.118104\n",
      "[11800]\tvalid_0's rmse: 0.343025\tvalid_0's l2: 0.117666\n",
      "[11850]\tvalid_0's rmse: 0.342244\tvalid_0's l2: 0.117131\n",
      "[11900]\tvalid_0's rmse: 0.341798\tvalid_0's l2: 0.116826\n",
      "[11950]\tvalid_0's rmse: 0.341124\tvalid_0's l2: 0.116366\n",
      "[12000]\tvalid_0's rmse: 0.34007\tvalid_0's l2: 0.115648\n",
      "[12050]\tvalid_0's rmse: 0.339412\tvalid_0's l2: 0.1152\n",
      "[12100]\tvalid_0's rmse: 0.338796\tvalid_0's l2: 0.114783\n",
      "[12150]\tvalid_0's rmse: 0.338144\tvalid_0's l2: 0.114341\n",
      "[12200]\tvalid_0's rmse: 0.337435\tvalid_0's l2: 0.113863\n",
      "[12250]\tvalid_0's rmse: 0.33702\tvalid_0's l2: 0.113582\n",
      "[12300]\tvalid_0's rmse: 0.336115\tvalid_0's l2: 0.112973\n",
      "[12350]\tvalid_0's rmse: 0.335177\tvalid_0's l2: 0.112344\n",
      "[12400]\tvalid_0's rmse: 0.334778\tvalid_0's l2: 0.112077\n",
      "[12450]\tvalid_0's rmse: 0.333811\tvalid_0's l2: 0.11143\n",
      "[12500]\tvalid_0's rmse: 0.333245\tvalid_0's l2: 0.111052\n",
      "[12550]\tvalid_0's rmse: 0.333057\tvalid_0's l2: 0.110927\n",
      "[12600]\tvalid_0's rmse: 0.332608\tvalid_0's l2: 0.110628\n",
      "[12650]\tvalid_0's rmse: 0.331473\tvalid_0's l2: 0.109874\n",
      "[12700]\tvalid_0's rmse: 0.330043\tvalid_0's l2: 0.108928\n",
      "[12750]\tvalid_0's rmse: 0.328991\tvalid_0's l2: 0.108235\n",
      "[12800]\tvalid_0's rmse: 0.328137\tvalid_0's l2: 0.107674\n",
      "[12850]\tvalid_0's rmse: 0.327235\tvalid_0's l2: 0.107083\n",
      "[12900]\tvalid_0's rmse: 0.325792\tvalid_0's l2: 0.106141\n",
      "[12950]\tvalid_0's rmse: 0.325135\tvalid_0's l2: 0.105713\n",
      "[13000]\tvalid_0's rmse: 0.324209\tvalid_0's l2: 0.105111\n",
      "[13050]\tvalid_0's rmse: 0.323813\tvalid_0's l2: 0.104855\n",
      "[13100]\tvalid_0's rmse: 0.323354\tvalid_0's l2: 0.104558\n",
      "[13150]\tvalid_0's rmse: 0.322177\tvalid_0's l2: 0.103798\n",
      "[13200]\tvalid_0's rmse: 0.321629\tvalid_0's l2: 0.103445\n",
      "[13250]\tvalid_0's rmse: 0.321223\tvalid_0's l2: 0.103184\n",
      "[13300]\tvalid_0's rmse: 0.320688\tvalid_0's l2: 0.102841\n",
      "[13350]\tvalid_0's rmse: 0.319974\tvalid_0's l2: 0.102383\n",
      "[13400]\tvalid_0's rmse: 0.319125\tvalid_0's l2: 0.101841\n",
      "[13450]\tvalid_0's rmse: 0.318433\tvalid_0's l2: 0.1014\n",
      "[13500]\tvalid_0's rmse: 0.317786\tvalid_0's l2: 0.100988\n",
      "[13550]\tvalid_0's rmse: 0.316995\tvalid_0's l2: 0.100486\n",
      "[13600]\tvalid_0's rmse: 0.316427\tvalid_0's l2: 0.100126\n",
      "[13650]\tvalid_0's rmse: 0.315695\tvalid_0's l2: 0.0996635\n",
      "[13700]\tvalid_0's rmse: 0.314951\tvalid_0's l2: 0.099194\n",
      "[13750]\tvalid_0's rmse: 0.314304\tvalid_0's l2: 0.0987868\n",
      "[13800]\tvalid_0's rmse: 0.313953\tvalid_0's l2: 0.0985665\n",
      "[13850]\tvalid_0's rmse: 0.313533\tvalid_0's l2: 0.0983031\n",
      "[13900]\tvalid_0's rmse: 0.312867\tvalid_0's l2: 0.0978855\n",
      "[13950]\tvalid_0's rmse: 0.312361\tvalid_0's l2: 0.0975692\n",
      "[14000]\tvalid_0's rmse: 0.311941\tvalid_0's l2: 0.0973072\n",
      "[14050]\tvalid_0's rmse: 0.311614\tvalid_0's l2: 0.0971034\n",
      "[14100]\tvalid_0's rmse: 0.311172\tvalid_0's l2: 0.096828\n",
      "[14150]\tvalid_0's rmse: 0.310761\tvalid_0's l2: 0.0965724\n",
      "[14200]\tvalid_0's rmse: 0.310177\tvalid_0's l2: 0.0962099\n",
      "[14250]\tvalid_0's rmse: 0.309451\tvalid_0's l2: 0.0957597\n",
      "[14300]\tvalid_0's rmse: 0.30901\tvalid_0's l2: 0.0954871\n",
      "[14350]\tvalid_0's rmse: 0.308343\tvalid_0's l2: 0.0950753\n",
      "[14400]\tvalid_0's rmse: 0.30767\tvalid_0's l2: 0.0946607\n",
      "[14450]\tvalid_0's rmse: 0.307268\tvalid_0's l2: 0.0944136\n",
      "[14500]\tvalid_0's rmse: 0.305738\tvalid_0's l2: 0.0934759\n",
      "[14550]\tvalid_0's rmse: 0.304341\tvalid_0's l2: 0.0926234\n",
      "[14600]\tvalid_0's rmse: 0.303735\tvalid_0's l2: 0.0922551\n",
      "[14650]\tvalid_0's rmse: 0.303183\tvalid_0's l2: 0.0919201\n",
      "[14700]\tvalid_0's rmse: 0.302813\tvalid_0's l2: 0.0916954\n",
      "[14750]\tvalid_0's rmse: 0.301937\tvalid_0's l2: 0.0911662\n",
      "[14800]\tvalid_0's rmse: 0.301146\tvalid_0's l2: 0.0906892\n",
      "[14850]\tvalid_0's rmse: 0.300189\tvalid_0's l2: 0.0901134\n",
      "[14900]\tvalid_0's rmse: 0.299359\tvalid_0's l2: 0.0896156\n"
     ]
    },
    {
     "name": "stdout",
     "output_type": "stream",
     "text": [
      "[14950]\tvalid_0's rmse: 0.298927\tvalid_0's l2: 0.0893574\n",
      "[15000]\tvalid_0's rmse: 0.298352\tvalid_0's l2: 0.0890139\n",
      "[15050]\tvalid_0's rmse: 0.297808\tvalid_0's l2: 0.0886898\n",
      "[15100]\tvalid_0's rmse: 0.297298\tvalid_0's l2: 0.0883863\n",
      "[15150]\tvalid_0's rmse: 0.296865\tvalid_0's l2: 0.0881287\n",
      "[15200]\tvalid_0's rmse: 0.296457\tvalid_0's l2: 0.0878869\n",
      "[15250]\tvalid_0's rmse: 0.295845\tvalid_0's l2: 0.0875242\n",
      "[15300]\tvalid_0's rmse: 0.294899\tvalid_0's l2: 0.0869655\n",
      "[15350]\tvalid_0's rmse: 0.294633\tvalid_0's l2: 0.0868083\n",
      "[15400]\tvalid_0's rmse: 0.294227\tvalid_0's l2: 0.0865696\n",
      "[15450]\tvalid_0's rmse: 0.293364\tvalid_0's l2: 0.0860624\n",
      "[15500]\tvalid_0's rmse: 0.292609\tvalid_0's l2: 0.0856199\n",
      "[15550]\tvalid_0's rmse: 0.292256\tvalid_0's l2: 0.0854134\n",
      "[15600]\tvalid_0's rmse: 0.291485\tvalid_0's l2: 0.0849637\n",
      "[15650]\tvalid_0's rmse: 0.29032\tvalid_0's l2: 0.0842856\n",
      "[15700]\tvalid_0's rmse: 0.289844\tvalid_0's l2: 0.0840093\n",
      "[15750]\tvalid_0's rmse: 0.288571\tvalid_0's l2: 0.0832735\n",
      "[15800]\tvalid_0's rmse: 0.287797\tvalid_0's l2: 0.0828271\n",
      "[15850]\tvalid_0's rmse: 0.287319\tvalid_0's l2: 0.0825521\n",
      "[15900]\tvalid_0's rmse: 0.286954\tvalid_0's l2: 0.0823427\n",
      "[15950]\tvalid_0's rmse: 0.286716\tvalid_0's l2: 0.082206\n",
      "[16000]\tvalid_0's rmse: 0.286273\tvalid_0's l2: 0.0819523\n",
      "[16050]\tvalid_0's rmse: 0.28588\tvalid_0's l2: 0.0817272\n",
      "[16100]\tvalid_0's rmse: 0.285193\tvalid_0's l2: 0.0813352\n",
      "[16150]\tvalid_0's rmse: 0.284693\tvalid_0's l2: 0.0810503\n",
      "[16200]\tvalid_0's rmse: 0.284115\tvalid_0's l2: 0.0807211\n",
      "[16250]\tvalid_0's rmse: 0.283839\tvalid_0's l2: 0.0805648\n",
      "[16300]\tvalid_0's rmse: 0.283298\tvalid_0's l2: 0.080258\n",
      "[16350]\tvalid_0's rmse: 0.282847\tvalid_0's l2: 0.0800023\n",
      "[16400]\tvalid_0's rmse: 0.282559\tvalid_0's l2: 0.0798395\n",
      "[16450]\tvalid_0's rmse: 0.281793\tvalid_0's l2: 0.0794071\n",
      "[16500]\tvalid_0's rmse: 0.281187\tvalid_0's l2: 0.0790661\n",
      "[16550]\tvalid_0's rmse: 0.280767\tvalid_0's l2: 0.0788303\n",
      "[16600]\tvalid_0's rmse: 0.280299\tvalid_0's l2: 0.0785674\n",
      "[16650]\tvalid_0's rmse: 0.279806\tvalid_0's l2: 0.0782912\n",
      "[16700]\tvalid_0's rmse: 0.279559\tvalid_0's l2: 0.0781532\n",
      "[16750]\tvalid_0's rmse: 0.278696\tvalid_0's l2: 0.0776713\n",
      "[16800]\tvalid_0's rmse: 0.278169\tvalid_0's l2: 0.0773778\n",
      "[16850]\tvalid_0's rmse: 0.277614\tvalid_0's l2: 0.0770696\n",
      "[16900]\tvalid_0's rmse: 0.277206\tvalid_0's l2: 0.0768433\n",
      "[16950]\tvalid_0's rmse: 0.276925\tvalid_0's l2: 0.0766876\n",
      "[17000]\tvalid_0's rmse: 0.276544\tvalid_0's l2: 0.0764766\n",
      "[17050]\tvalid_0's rmse: 0.275986\tvalid_0's l2: 0.0761683\n",
      "[17100]\tvalid_0's rmse: 0.275778\tvalid_0's l2: 0.0760537\n",
      "[17150]\tvalid_0's rmse: 0.275374\tvalid_0's l2: 0.0758307\n",
      "[17200]\tvalid_0's rmse: 0.274716\tvalid_0's l2: 0.0754691\n",
      "[17250]\tvalid_0's rmse: 0.274048\tvalid_0's l2: 0.0751022\n",
      "[17300]\tvalid_0's rmse: 0.273589\tvalid_0's l2: 0.074851\n",
      "[17350]\tvalid_0's rmse: 0.27322\tvalid_0's l2: 0.0746489\n",
      "[17400]\tvalid_0's rmse: 0.272836\tvalid_0's l2: 0.0744393\n",
      "[17450]\tvalid_0's rmse: 0.272342\tvalid_0's l2: 0.0741704\n",
      "[17500]\tvalid_0's rmse: 0.272035\tvalid_0's l2: 0.0740033\n",
      "[17550]\tvalid_0's rmse: 0.271251\tvalid_0's l2: 0.0735774\n",
      "[17600]\tvalid_0's rmse: 0.270802\tvalid_0's l2: 0.0733339\n",
      "[17650]\tvalid_0's rmse: 0.270161\tvalid_0's l2: 0.072987\n",
      "[17700]\tvalid_0's rmse: 0.269742\tvalid_0's l2: 0.0727609\n",
      "[17750]\tvalid_0's rmse: 0.269346\tvalid_0's l2: 0.072547\n",
      "[17800]\tvalid_0's rmse: 0.26862\tvalid_0's l2: 0.0721567\n",
      "[17850]\tvalid_0's rmse: 0.268062\tvalid_0's l2: 0.0718575\n",
      "[17900]\tvalid_0's rmse: 0.267671\tvalid_0's l2: 0.071648\n",
      "[17950]\tvalid_0's rmse: 0.267136\tvalid_0's l2: 0.0713617\n",
      "[18000]\tvalid_0's rmse: 0.266762\tvalid_0's l2: 0.0711619\n",
      "[18050]\tvalid_0's rmse: 0.266232\tvalid_0's l2: 0.0708795\n",
      "[18100]\tvalid_0's rmse: 0.265601\tvalid_0's l2: 0.0705438\n",
      "[18150]\tvalid_0's rmse: 0.264838\tvalid_0's l2: 0.0701392\n",
      "[18200]\tvalid_0's rmse: 0.264376\tvalid_0's l2: 0.0698948\n",
      "[18250]\tvalid_0's rmse: 0.264084\tvalid_0's l2: 0.0697404\n",
      "[18300]\tvalid_0's rmse: 0.263708\tvalid_0's l2: 0.0695419\n",
      "[18350]\tvalid_0's rmse: 0.263476\tvalid_0's l2: 0.0694197\n",
      "[18400]\tvalid_0's rmse: 0.263257\tvalid_0's l2: 0.0693041\n",
      "[18450]\tvalid_0's rmse: 0.262961\tvalid_0's l2: 0.0691483\n",
      "[18500]\tvalid_0's rmse: 0.26246\tvalid_0's l2: 0.0688852\n",
      "[18550]\tvalid_0's rmse: 0.261949\tvalid_0's l2: 0.0686173\n",
      "[18600]\tvalid_0's rmse: 0.261615\tvalid_0's l2: 0.0684424\n",
      "[18650]\tvalid_0's rmse: 0.261472\tvalid_0's l2: 0.0683674\n",
      "[18700]\tvalid_0's rmse: 0.261099\tvalid_0's l2: 0.0681729\n",
      "[18750]\tvalid_0's rmse: 0.260699\tvalid_0's l2: 0.0679637\n",
      "[18800]\tvalid_0's rmse: 0.260131\tvalid_0's l2: 0.0676682\n",
      "[18850]\tvalid_0's rmse: 0.259875\tvalid_0's l2: 0.0675351\n",
      "[18900]\tvalid_0's rmse: 0.259648\tvalid_0's l2: 0.0674171\n",
      "[18950]\tvalid_0's rmse: 0.2594\tvalid_0's l2: 0.0672883\n",
      "[19000]\tvalid_0's rmse: 0.258972\tvalid_0's l2: 0.0670663\n",
      "[19050]\tvalid_0's rmse: 0.258679\tvalid_0's l2: 0.0669146\n",
      "[19100]\tvalid_0's rmse: 0.258344\tvalid_0's l2: 0.0667415\n",
      "[19150]\tvalid_0's rmse: 0.257796\tvalid_0's l2: 0.066459\n",
      "[19200]\tvalid_0's rmse: 0.257193\tvalid_0's l2: 0.0661482\n",
      "[19250]\tvalid_0's rmse: 0.256944\tvalid_0's l2: 0.0660203\n",
      "[19300]\tvalid_0's rmse: 0.256604\tvalid_0's l2: 0.0658455\n",
      "[19350]\tvalid_0's rmse: 0.256011\tvalid_0's l2: 0.0655416\n",
      "[19400]\tvalid_0's rmse: 0.255125\tvalid_0's l2: 0.0650888\n",
      "[19450]\tvalid_0's rmse: 0.254837\tvalid_0's l2: 0.0649417\n",
      "[19500]\tvalid_0's rmse: 0.254321\tvalid_0's l2: 0.064679\n",
      "[19550]\tvalid_0's rmse: 0.253974\tvalid_0's l2: 0.064503\n",
      "[19600]\tvalid_0's rmse: 0.253661\tvalid_0's l2: 0.064344\n",
      "[19650]\tvalid_0's rmse: 0.253319\tvalid_0's l2: 0.0641705\n",
      "[19700]\tvalid_0's rmse: 0.252996\tvalid_0's l2: 0.0640071\n",
      "[19750]\tvalid_0's rmse: 0.252706\tvalid_0's l2: 0.0638605\n",
      "[19800]\tvalid_0's rmse: 0.252357\tvalid_0's l2: 0.0636843\n",
      "[19850]\tvalid_0's rmse: 0.251773\tvalid_0's l2: 0.0633897\n",
      "[19900]\tvalid_0's rmse: 0.251499\tvalid_0's l2: 0.0632518\n",
      "[19950]\tvalid_0's rmse: 0.250919\tvalid_0's l2: 0.0629604\n",
      "[20000]\tvalid_0's rmse: 0.250778\tvalid_0's l2: 0.0628897\n",
      "[20050]\tvalid_0's rmse: 0.250342\tvalid_0's l2: 0.0626713\n",
      "[20100]\tvalid_0's rmse: 0.249954\tvalid_0's l2: 0.062477\n",
      "[20150]\tvalid_0's rmse: 0.249395\tvalid_0's l2: 0.0621976\n",
      "[20200]\tvalid_0's rmse: 0.248927\tvalid_0's l2: 0.0619646\n",
      "[20250]\tvalid_0's rmse: 0.248247\tvalid_0's l2: 0.0616266\n",
      "[20300]\tvalid_0's rmse: 0.247811\tvalid_0's l2: 0.0614102\n",
      "[20350]\tvalid_0's rmse: 0.247552\tvalid_0's l2: 0.0612818\n",
      "[20400]\tvalid_0's rmse: 0.247339\tvalid_0's l2: 0.0611764\n",
      "[20450]\tvalid_0's rmse: 0.247074\tvalid_0's l2: 0.0610455\n",
      "[20500]\tvalid_0's rmse: 0.246403\tvalid_0's l2: 0.0607144\n",
      "[20550]\tvalid_0's rmse: 0.246097\tvalid_0's l2: 0.0605636\n",
      "[20600]\tvalid_0's rmse: 0.245697\tvalid_0's l2: 0.060367\n",
      "[20650]\tvalid_0's rmse: 0.245358\tvalid_0's l2: 0.0602007\n",
      "[20700]\tvalid_0's rmse: 0.24517\tvalid_0's l2: 0.0601083\n",
      "[20750]\tvalid_0's rmse: 0.244878\tvalid_0's l2: 0.0599652\n",
      "[20800]\tvalid_0's rmse: 0.244707\tvalid_0's l2: 0.0598815\n",
      "[20850]\tvalid_0's rmse: 0.244397\tvalid_0's l2: 0.0597297\n",
      "[20900]\tvalid_0's rmse: 0.244129\tvalid_0's l2: 0.059599\n",
      "[20950]\tvalid_0's rmse: 0.243458\tvalid_0's l2: 0.0592718\n",
      "[21000]\tvalid_0's rmse: 0.242921\tvalid_0's l2: 0.0590104\n",
      "[21050]\tvalid_0's rmse: 0.242284\tvalid_0's l2: 0.0587016\n",
      "[21100]\tvalid_0's rmse: 0.241797\tvalid_0's l2: 0.058466\n",
      "[21150]\tvalid_0's rmse: 0.241298\tvalid_0's l2: 0.0582247\n",
      "[21200]\tvalid_0's rmse: 0.240951\tvalid_0's l2: 0.0580575\n",
      "[21250]\tvalid_0's rmse: 0.240722\tvalid_0's l2: 0.0579469\n",
      "[21300]\tvalid_0's rmse: 0.240288\tvalid_0's l2: 0.0577384\n",
      "[21350]\tvalid_0's rmse: 0.240008\tvalid_0's l2: 0.0576039\n",
      "[21400]\tvalid_0's rmse: 0.239583\tvalid_0's l2: 0.0573999\n",
      "[21450]\tvalid_0's rmse: 0.23929\tvalid_0's l2: 0.0572596\n",
      "[21500]\tvalid_0's rmse: 0.238878\tvalid_0's l2: 0.0570626\n",
      "[21550]\tvalid_0's rmse: 0.238669\tvalid_0's l2: 0.0569628\n",
      "[21600]\tvalid_0's rmse: 0.238309\tvalid_0's l2: 0.0567911\n",
      "[21650]\tvalid_0's rmse: 0.238076\tvalid_0's l2: 0.0566804\n",
      "[21700]\tvalid_0's rmse: 0.237736\tvalid_0's l2: 0.0565182\n",
      "[21750]\tvalid_0's rmse: 0.237292\tvalid_0's l2: 0.0563075\n",
      "[21800]\tvalid_0's rmse: 0.237058\tvalid_0's l2: 0.0561965\n",
      "[21850]\tvalid_0's rmse: 0.236656\tvalid_0's l2: 0.0560063\n",
      "[21900]\tvalid_0's rmse: 0.236385\tvalid_0's l2: 0.0558776\n",
      "[21950]\tvalid_0's rmse: 0.23606\tvalid_0's l2: 0.0557241\n",
      "[22000]\tvalid_0's rmse: 0.235712\tvalid_0's l2: 0.0555604\n",
      "[22050]\tvalid_0's rmse: 0.234925\tvalid_0's l2: 0.0551898\n",
      "[22100]\tvalid_0's rmse: 0.234439\tvalid_0's l2: 0.0549615\n",
      "[22150]\tvalid_0's rmse: 0.234142\tvalid_0's l2: 0.0548226\n"
     ]
    },
    {
     "name": "stdout",
     "output_type": "stream",
     "text": [
      "[22200]\tvalid_0's rmse: 0.233782\tvalid_0's l2: 0.0546538\n",
      "[22250]\tvalid_0's rmse: 0.233483\tvalid_0's l2: 0.0545141\n",
      "[22300]\tvalid_0's rmse: 0.233018\tvalid_0's l2: 0.0542973\n",
      "[22350]\tvalid_0's rmse: 0.232862\tvalid_0's l2: 0.0542248\n",
      "[22400]\tvalid_0's rmse: 0.232574\tvalid_0's l2: 0.0540908\n",
      "[22450]\tvalid_0's rmse: 0.232275\tvalid_0's l2: 0.0539517\n",
      "[22500]\tvalid_0's rmse: 0.231898\tvalid_0's l2: 0.0537766\n",
      "[22550]\tvalid_0's rmse: 0.231472\tvalid_0's l2: 0.0535793\n",
      "[22600]\tvalid_0's rmse: 0.231005\tvalid_0's l2: 0.0533635\n",
      "[22650]\tvalid_0's rmse: 0.230681\tvalid_0's l2: 0.0532138\n",
      "[22700]\tvalid_0's rmse: 0.230238\tvalid_0's l2: 0.0530097\n",
      "[22750]\tvalid_0's rmse: 0.229937\tvalid_0's l2: 0.0528712\n",
      "[22800]\tvalid_0's rmse: 0.229656\tvalid_0's l2: 0.0527417\n",
      "[22850]\tvalid_0's rmse: 0.229477\tvalid_0's l2: 0.0526599\n",
      "[22900]\tvalid_0's rmse: 0.229286\tvalid_0's l2: 0.0525723\n",
      "[22950]\tvalid_0's rmse: 0.229075\tvalid_0's l2: 0.0524754\n",
      "[23000]\tvalid_0's rmse: 0.22884\tvalid_0's l2: 0.0523675\n",
      "[23050]\tvalid_0's rmse: 0.22843\tvalid_0's l2: 0.0521804\n",
      "[23100]\tvalid_0's rmse: 0.228146\tvalid_0's l2: 0.0520507\n",
      "[23150]\tvalid_0's rmse: 0.227933\tvalid_0's l2: 0.0519535\n",
      "[23200]\tvalid_0's rmse: 0.227654\tvalid_0's l2: 0.0518265\n",
      "[23250]\tvalid_0's rmse: 0.227264\tvalid_0's l2: 0.0516488\n",
      "[23300]\tvalid_0's rmse: 0.227006\tvalid_0's l2: 0.0515315\n",
      "[23350]\tvalid_0's rmse: 0.226676\tvalid_0's l2: 0.0513818\n",
      "[23400]\tvalid_0's rmse: 0.226422\tvalid_0's l2: 0.051267\n",
      "[23450]\tvalid_0's rmse: 0.225963\tvalid_0's l2: 0.0510593\n",
      "[23500]\tvalid_0's rmse: 0.22549\tvalid_0's l2: 0.0508457\n",
      "[23550]\tvalid_0's rmse: 0.225343\tvalid_0's l2: 0.0507792\n",
      "[23600]\tvalid_0's rmse: 0.225167\tvalid_0's l2: 0.0507004\n",
      "[23650]\tvalid_0's rmse: 0.224879\tvalid_0's l2: 0.0505706\n",
      "[23700]\tvalid_0's rmse: 0.22442\tvalid_0's l2: 0.0503642\n",
      "[23750]\tvalid_0's rmse: 0.223908\tvalid_0's l2: 0.0501348\n",
      "[23800]\tvalid_0's rmse: 0.223444\tvalid_0's l2: 0.0499271\n",
      "[23850]\tvalid_0's rmse: 0.223181\tvalid_0's l2: 0.0498099\n",
      "[23900]\tvalid_0's rmse: 0.222949\tvalid_0's l2: 0.0497062\n",
      "[23950]\tvalid_0's rmse: 0.2226\tvalid_0's l2: 0.0495509\n",
      "[24000]\tvalid_0's rmse: 0.2223\tvalid_0's l2: 0.0494174\n",
      "[24050]\tvalid_0's rmse: 0.222097\tvalid_0's l2: 0.0493272\n",
      "[24100]\tvalid_0's rmse: 0.221641\tvalid_0's l2: 0.0491246\n",
      "[24150]\tvalid_0's rmse: 0.221517\tvalid_0's l2: 0.0490698\n",
      "[24200]\tvalid_0's rmse: 0.221406\tvalid_0's l2: 0.0490204\n",
      "[24250]\tvalid_0's rmse: 0.220859\tvalid_0's l2: 0.0487788\n",
      "[24300]\tvalid_0's rmse: 0.220348\tvalid_0's l2: 0.0485533\n",
      "[24350]\tvalid_0's rmse: 0.219832\tvalid_0's l2: 0.048326\n",
      "[24400]\tvalid_0's rmse: 0.219707\tvalid_0's l2: 0.0482713\n",
      "[24450]\tvalid_0's rmse: 0.21925\tvalid_0's l2: 0.0480706\n",
      "[24500]\tvalid_0's rmse: 0.218846\tvalid_0's l2: 0.0478936\n",
      "[24550]\tvalid_0's rmse: 0.218449\tvalid_0's l2: 0.0477199\n",
      "[24600]\tvalid_0's rmse: 0.217899\tvalid_0's l2: 0.0474799\n",
      "[24650]\tvalid_0's rmse: 0.21752\tvalid_0's l2: 0.047315\n",
      "[24700]\tvalid_0's rmse: 0.217091\tvalid_0's l2: 0.0471283\n",
      "[24750]\tvalid_0's rmse: 0.216795\tvalid_0's l2: 0.0469999\n",
      "[24800]\tvalid_0's rmse: 0.216298\tvalid_0's l2: 0.0467849\n",
      "[24850]\tvalid_0's rmse: 0.216168\tvalid_0's l2: 0.0467286\n",
      "[24900]\tvalid_0's rmse: 0.215594\tvalid_0's l2: 0.0464808\n",
      "[24950]\tvalid_0's rmse: 0.215206\tvalid_0's l2: 0.0463136\n",
      "[25000]\tvalid_0's rmse: 0.214938\tvalid_0's l2: 0.0461985\n",
      "[25050]\tvalid_0's rmse: 0.214276\tvalid_0's l2: 0.0459141\n",
      "[25100]\tvalid_0's rmse: 0.214055\tvalid_0's l2: 0.0458193\n",
      "[25150]\tvalid_0's rmse: 0.2138\tvalid_0's l2: 0.0457106\n",
      "[25200]\tvalid_0's rmse: 0.213439\tvalid_0's l2: 0.0455561\n",
      "[25250]\tvalid_0's rmse: 0.213246\tvalid_0's l2: 0.0454738\n",
      "[25300]\tvalid_0's rmse: 0.212669\tvalid_0's l2: 0.0452282\n",
      "[25350]\tvalid_0's rmse: 0.212395\tvalid_0's l2: 0.0451115\n",
      "[25400]\tvalid_0's rmse: 0.211959\tvalid_0's l2: 0.0449266\n",
      "[25450]\tvalid_0's rmse: 0.211681\tvalid_0's l2: 0.0448088\n",
      "[25500]\tvalid_0's rmse: 0.211101\tvalid_0's l2: 0.0445638\n",
      "[25550]\tvalid_0's rmse: 0.210606\tvalid_0's l2: 0.0443548\n",
      "[25600]\tvalid_0's rmse: 0.210345\tvalid_0's l2: 0.0442449\n",
      "[25650]\tvalid_0's rmse: 0.209985\tvalid_0's l2: 0.0440939\n",
      "[25700]\tvalid_0's rmse: 0.209801\tvalid_0's l2: 0.0440164\n",
      "[25750]\tvalid_0's rmse: 0.209506\tvalid_0's l2: 0.0438928\n",
      "[25800]\tvalid_0's rmse: 0.209348\tvalid_0's l2: 0.0438264\n",
      "[25850]\tvalid_0's rmse: 0.209135\tvalid_0's l2: 0.0437376\n",
      "[25900]\tvalid_0's rmse: 0.208892\tvalid_0's l2: 0.0436359\n",
      "[25950]\tvalid_0's rmse: 0.208586\tvalid_0's l2: 0.043508\n",
      "[26000]\tvalid_0's rmse: 0.20827\tvalid_0's l2: 0.0433763\n",
      "[26050]\tvalid_0's rmse: 0.207874\tvalid_0's l2: 0.0432116\n",
      "[26100]\tvalid_0's rmse: 0.207539\tvalid_0's l2: 0.0430723\n",
      "[26150]\tvalid_0's rmse: 0.207235\tvalid_0's l2: 0.0429463\n",
      "[26200]\tvalid_0's rmse: 0.207081\tvalid_0's l2: 0.0428824\n",
      "[26250]\tvalid_0's rmse: 0.206869\tvalid_0's l2: 0.042795\n",
      "[26300]\tvalid_0's rmse: 0.206644\tvalid_0's l2: 0.0427016\n",
      "[26350]\tvalid_0's rmse: 0.206411\tvalid_0's l2: 0.0426057\n",
      "[26400]\tvalid_0's rmse: 0.206093\tvalid_0's l2: 0.0424745\n",
      "[26450]\tvalid_0's rmse: 0.206033\tvalid_0's l2: 0.0424494\n",
      "[26500]\tvalid_0's rmse: 0.205825\tvalid_0's l2: 0.0423638\n",
      "[26550]\tvalid_0's rmse: 0.205521\tvalid_0's l2: 0.0422387\n",
      "[26600]\tvalid_0's rmse: 0.205013\tvalid_0's l2: 0.0420303\n",
      "[26650]\tvalid_0's rmse: 0.20475\tvalid_0's l2: 0.0419226\n",
      "[26700]\tvalid_0's rmse: 0.204529\tvalid_0's l2: 0.0418323\n",
      "[26750]\tvalid_0's rmse: 0.204373\tvalid_0's l2: 0.0417682\n",
      "[26800]\tvalid_0's rmse: 0.204149\tvalid_0's l2: 0.041677\n",
      "[26850]\tvalid_0's rmse: 0.203905\tvalid_0's l2: 0.0415774\n",
      "[26900]\tvalid_0's rmse: 0.203594\tvalid_0's l2: 0.0414504\n",
      "[26950]\tvalid_0's rmse: 0.203039\tvalid_0's l2: 0.0412247\n",
      "[27000]\tvalid_0's rmse: 0.202627\tvalid_0's l2: 0.0410579\n",
      "[27050]\tvalid_0's rmse: 0.202333\tvalid_0's l2: 0.0409386\n",
      "[27100]\tvalid_0's rmse: 0.201836\tvalid_0's l2: 0.0407376\n",
      "[27150]\tvalid_0's rmse: 0.201589\tvalid_0's l2: 0.0406383\n",
      "[27200]\tvalid_0's rmse: 0.201238\tvalid_0's l2: 0.0404967\n",
      "[27250]\tvalid_0's rmse: 0.200776\tvalid_0's l2: 0.0403112\n",
      "[27300]\tvalid_0's rmse: 0.200629\tvalid_0's l2: 0.0402522\n",
      "[27350]\tvalid_0's rmse: 0.200139\tvalid_0's l2: 0.0400556\n",
      "[27400]\tvalid_0's rmse: 0.199852\tvalid_0's l2: 0.0399407\n",
      "[27450]\tvalid_0's rmse: 0.199542\tvalid_0's l2: 0.039817\n",
      "[27500]\tvalid_0's rmse: 0.199165\tvalid_0's l2: 0.0396667\n",
      "[27550]\tvalid_0's rmse: 0.19897\tvalid_0's l2: 0.0395891\n",
      "[27600]\tvalid_0's rmse: 0.198757\tvalid_0's l2: 0.0395043\n",
      "[27650]\tvalid_0's rmse: 0.198529\tvalid_0's l2: 0.0394137\n",
      "[27700]\tvalid_0's rmse: 0.198398\tvalid_0's l2: 0.0393617\n",
      "[27750]\tvalid_0's rmse: 0.198153\tvalid_0's l2: 0.0392645\n",
      "[27800]\tvalid_0's rmse: 0.197972\tvalid_0's l2: 0.0391928\n",
      "[27850]\tvalid_0's rmse: 0.19777\tvalid_0's l2: 0.0391128\n",
      "[27900]\tvalid_0's rmse: 0.197475\tvalid_0's l2: 0.0389963\n",
      "[27950]\tvalid_0's rmse: 0.197023\tvalid_0's l2: 0.0388182\n",
      "[28000]\tvalid_0's rmse: 0.196768\tvalid_0's l2: 0.0387177\n",
      "[28050]\tvalid_0's rmse: 0.196473\tvalid_0's l2: 0.0386015\n",
      "[28100]\tvalid_0's rmse: 0.19636\tvalid_0's l2: 0.0385571\n",
      "[28150]\tvalid_0's rmse: 0.19589\tvalid_0's l2: 0.0383729\n",
      "[28200]\tvalid_0's rmse: 0.19569\tvalid_0's l2: 0.0382946\n",
      "[28250]\tvalid_0's rmse: 0.195456\tvalid_0's l2: 0.0382029\n",
      "[28300]\tvalid_0's rmse: 0.195332\tvalid_0's l2: 0.0381547\n",
      "[28350]\tvalid_0's rmse: 0.195026\tvalid_0's l2: 0.0380351\n",
      "[28400]\tvalid_0's rmse: 0.194807\tvalid_0's l2: 0.0379499\n",
      "[28450]\tvalid_0's rmse: 0.194352\tvalid_0's l2: 0.0377726\n",
      "[28500]\tvalid_0's rmse: 0.194115\tvalid_0's l2: 0.0376807\n",
      "[28550]\tvalid_0's rmse: 0.193956\tvalid_0's l2: 0.0376187\n",
      "[28600]\tvalid_0's rmse: 0.193627\tvalid_0's l2: 0.0374915\n",
      "[28650]\tvalid_0's rmse: 0.193184\tvalid_0's l2: 0.03732\n",
      "[28700]\tvalid_0's rmse: 0.192958\tvalid_0's l2: 0.0372326\n",
      "[28750]\tvalid_0's rmse: 0.192796\tvalid_0's l2: 0.0371705\n",
      "[28800]\tvalid_0's rmse: 0.19251\tvalid_0's l2: 0.0370599\n",
      "[28850]\tvalid_0's rmse: 0.192339\tvalid_0's l2: 0.0369942\n",
      "[28900]\tvalid_0's rmse: 0.192109\tvalid_0's l2: 0.0369059\n",
      "[28950]\tvalid_0's rmse: 0.191995\tvalid_0's l2: 0.036862\n",
      "[29000]\tvalid_0's rmse: 0.191807\tvalid_0's l2: 0.0367898\n",
      "[29050]\tvalid_0's rmse: 0.191696\tvalid_0's l2: 0.0367473\n",
      "[29100]\tvalid_0's rmse: 0.19145\tvalid_0's l2: 0.0366531\n",
      "[29150]\tvalid_0's rmse: 0.191293\tvalid_0's l2: 0.036593\n",
      "[29200]\tvalid_0's rmse: 0.191035\tvalid_0's l2: 0.0364943\n",
      "[29250]\tvalid_0's rmse: 0.190828\tvalid_0's l2: 0.0364154\n",
      "[29300]\tvalid_0's rmse: 0.190642\tvalid_0's l2: 0.0363443\n",
      "[29350]\tvalid_0's rmse: 0.19054\tvalid_0's l2: 0.0363055\n",
      "[29400]\tvalid_0's rmse: 0.190354\tvalid_0's l2: 0.0362348\n"
     ]
    },
    {
     "name": "stdout",
     "output_type": "stream",
     "text": [
      "[29450]\tvalid_0's rmse: 0.190084\tvalid_0's l2: 0.036132\n",
      "[29500]\tvalid_0's rmse: 0.189958\tvalid_0's l2: 0.0360839\n",
      "[29550]\tvalid_0's rmse: 0.18989\tvalid_0's l2: 0.0360583\n",
      "[29600]\tvalid_0's rmse: 0.189767\tvalid_0's l2: 0.0360114\n",
      "[29650]\tvalid_0's rmse: 0.189571\tvalid_0's l2: 0.035937\n",
      "[29700]\tvalid_0's rmse: 0.189332\tvalid_0's l2: 0.0358464\n",
      "[29750]\tvalid_0's rmse: 0.18918\tvalid_0's l2: 0.0357892\n",
      "[29800]\tvalid_0's rmse: 0.189023\tvalid_0's l2: 0.0357298\n",
      "[29850]\tvalid_0's rmse: 0.188952\tvalid_0's l2: 0.0357028\n",
      "[29900]\tvalid_0's rmse: 0.188848\tvalid_0's l2: 0.0356637\n",
      "[29950]\tvalid_0's rmse: 0.188673\tvalid_0's l2: 0.0355976\n",
      "[30000]\tvalid_0's rmse: 0.188542\tvalid_0's l2: 0.035548\n",
      "Did not meet early stopping. Best iteration is:\n",
      "[30000]\tvalid_0's rmse: 0.188542\tvalid_0's l2: 0.035548\n"
     ]
    },
    {
     "data": {
      "text/plain": [
       "LGBMRegressor(n_estimators=30000)"
      ]
     },
     "execution_count": 39,
     "metadata": {},
     "output_type": "execute_result"
    }
   ],
   "source": [
    "clf.fit(train[features],train['Close'],eval_set=[(val[features],val[TARGET_COL])],verbose=50 ,early_stopping_rounds=200, eval_metric='rmse')"
   ]
  },
  {
   "cell_type": "code",
   "execution_count": 40,
   "metadata": {},
   "outputs": [],
   "source": [
    "with mlflow.start_run():\n",
    "    rmse_eval = rmse (val[TARGET_COL],clf.predict(val[features]))\n",
    "    log_param(\"rmse\", rmse_eval)\n",
    "    log_param(\"n_estimators\",30000)\n",
    "    log_param(\"algorithm\", \"Full dataset, validation first 200 days\")\n",
    "    pt = clf.predict(test[features])"
   ]
  },
  {
   "cell_type": "code",
   "execution_count": null,
   "metadata": {},
   "outputs": [],
   "source": []
  },
  {
   "cell_type": "code",
   "execution_count": null,
   "metadata": {},
   "outputs": [],
   "source": []
  },
  {
   "cell_type": "code",
   "execution_count": 41,
   "metadata": {},
   "outputs": [
    {
     "name": "stderr",
     "output_type": "stream",
     "text": [
      "/Users/rgarzon/anaconda3/envs/vinya/lib/python3.7/site-packages/ipykernel/ipkernel.py:287: DeprecationWarning: `should_run_async` will not call `transform_cell` automatically in the future. Please pass the result to `transformed_cell` argument and any exception that happen during thetransform in `preprocessing_exc_tuple` in IPython 7.17 and above.\n",
      "  and should_run_async(code)\n"
     ]
    }
   ],
   "source": [
    "test['lightgbm'] = pt"
   ]
  },
  {
   "cell_type": "code",
   "execution_count": 42,
   "metadata": {},
   "outputs": [
    {
     "name": "stderr",
     "output_type": "stream",
     "text": [
      "INFO:fbprophet:Disabling daily seasonality. Run prophet with daily_seasonality=True to override this.\n"
     ]
    },
    {
     "name": "stdout",
     "output_type": "stream",
     "text": [
      "0\n"
     ]
    },
    {
     "name": "stderr",
     "output_type": "stream",
     "text": [
      "INFO:fbprophet:Disabling daily seasonality. Run prophet with daily_seasonality=True to override this.\n"
     ]
    },
    {
     "name": "stdout",
     "output_type": "stream",
     "text": [
      "************************\n",
      "1\n"
     ]
    },
    {
     "name": "stderr",
     "output_type": "stream",
     "text": [
      "INFO:fbprophet:Disabling daily seasonality. Run prophet with daily_seasonality=True to override this.\n"
     ]
    },
    {
     "name": "stdout",
     "output_type": "stream",
     "text": [
      "************************\n",
      "2\n"
     ]
    },
    {
     "name": "stderr",
     "output_type": "stream",
     "text": [
      "INFO:fbprophet:Disabling daily seasonality. Run prophet with daily_seasonality=True to override this.\n"
     ]
    },
    {
     "name": "stdout",
     "output_type": "stream",
     "text": [
      "************************\n",
      "3\n"
     ]
    },
    {
     "name": "stderr",
     "output_type": "stream",
     "text": [
      "INFO:fbprophet:Disabling daily seasonality. Run prophet with daily_seasonality=True to override this.\n"
     ]
    },
    {
     "name": "stdout",
     "output_type": "stream",
     "text": [
      "************************\n",
      "4\n"
     ]
    },
    {
     "name": "stderr",
     "output_type": "stream",
     "text": [
      "INFO:fbprophet:Disabling daily seasonality. Run prophet with daily_seasonality=True to override this.\n"
     ]
    },
    {
     "name": "stdout",
     "output_type": "stream",
     "text": [
      "************************\n",
      "5\n"
     ]
    },
    {
     "name": "stderr",
     "output_type": "stream",
     "text": [
      "INFO:fbprophet:Disabling daily seasonality. Run prophet with daily_seasonality=True to override this.\n"
     ]
    },
    {
     "name": "stdout",
     "output_type": "stream",
     "text": [
      "************************\n",
      "6\n"
     ]
    },
    {
     "name": "stderr",
     "output_type": "stream",
     "text": [
      "INFO:fbprophet:Disabling daily seasonality. Run prophet with daily_seasonality=True to override this.\n"
     ]
    },
    {
     "name": "stdout",
     "output_type": "stream",
     "text": [
      "************************\n",
      "7\n"
     ]
    },
    {
     "name": "stderr",
     "output_type": "stream",
     "text": [
      "INFO:fbprophet:Disabling daily seasonality. Run prophet with daily_seasonality=True to override this.\n"
     ]
    },
    {
     "name": "stdout",
     "output_type": "stream",
     "text": [
      "************************\n",
      "8\n"
     ]
    },
    {
     "name": "stderr",
     "output_type": "stream",
     "text": [
      "INFO:fbprophet:Disabling daily seasonality. Run prophet with daily_seasonality=True to override this.\n"
     ]
    },
    {
     "name": "stdout",
     "output_type": "stream",
     "text": [
      "************************\n",
      "9\n"
     ]
    },
    {
     "name": "stderr",
     "output_type": "stream",
     "text": [
      "INFO:fbprophet:Disabling daily seasonality. Run prophet with daily_seasonality=True to override this.\n"
     ]
    },
    {
     "name": "stdout",
     "output_type": "stream",
     "text": [
      "************************\n",
      "10\n"
     ]
    },
    {
     "name": "stderr",
     "output_type": "stream",
     "text": [
      "INFO:fbprophet:Disabling daily seasonality. Run prophet with daily_seasonality=True to override this.\n"
     ]
    },
    {
     "name": "stdout",
     "output_type": "stream",
     "text": [
      "************************\n",
      "11\n"
     ]
    },
    {
     "name": "stderr",
     "output_type": "stream",
     "text": [
      "INFO:fbprophet:Disabling daily seasonality. Run prophet with daily_seasonality=True to override this.\n"
     ]
    },
    {
     "name": "stdout",
     "output_type": "stream",
     "text": [
      "************************\n",
      "12\n"
     ]
    },
    {
     "name": "stderr",
     "output_type": "stream",
     "text": [
      "INFO:fbprophet:Disabling daily seasonality. Run prophet with daily_seasonality=True to override this.\n"
     ]
    },
    {
     "name": "stdout",
     "output_type": "stream",
     "text": [
      "************************\n",
      "13\n"
     ]
    },
    {
     "name": "stderr",
     "output_type": "stream",
     "text": [
      "INFO:fbprophet:Disabling daily seasonality. Run prophet with daily_seasonality=True to override this.\n"
     ]
    },
    {
     "name": "stdout",
     "output_type": "stream",
     "text": [
      "************************\n",
      "14\n"
     ]
    },
    {
     "name": "stderr",
     "output_type": "stream",
     "text": [
      "INFO:fbprophet:Disabling daily seasonality. Run prophet with daily_seasonality=True to override this.\n"
     ]
    },
    {
     "name": "stdout",
     "output_type": "stream",
     "text": [
      "************************\n",
      "15\n"
     ]
    },
    {
     "name": "stderr",
     "output_type": "stream",
     "text": [
      "INFO:fbprophet:Disabling daily seasonality. Run prophet with daily_seasonality=True to override this.\n"
     ]
    },
    {
     "name": "stdout",
     "output_type": "stream",
     "text": [
      "************************\n",
      "16\n"
     ]
    },
    {
     "name": "stderr",
     "output_type": "stream",
     "text": [
      "INFO:fbprophet:Disabling daily seasonality. Run prophet with daily_seasonality=True to override this.\n"
     ]
    },
    {
     "name": "stdout",
     "output_type": "stream",
     "text": [
      "************************\n",
      "17\n"
     ]
    },
    {
     "name": "stderr",
     "output_type": "stream",
     "text": [
      "INFO:fbprophet:Disabling daily seasonality. Run prophet with daily_seasonality=True to override this.\n"
     ]
    },
    {
     "name": "stdout",
     "output_type": "stream",
     "text": [
      "************************\n",
      "18\n"
     ]
    },
    {
     "name": "stderr",
     "output_type": "stream",
     "text": [
      "INFO:fbprophet:Disabling daily seasonality. Run prophet with daily_seasonality=True to override this.\n"
     ]
    },
    {
     "name": "stdout",
     "output_type": "stream",
     "text": [
      "************************\n",
      "19\n"
     ]
    },
    {
     "name": "stderr",
     "output_type": "stream",
     "text": [
      "INFO:fbprophet:Disabling daily seasonality. Run prophet with daily_seasonality=True to override this.\n"
     ]
    },
    {
     "name": "stdout",
     "output_type": "stream",
     "text": [
      "************************\n",
      "20\n"
     ]
    },
    {
     "name": "stderr",
     "output_type": "stream",
     "text": [
      "INFO:fbprophet:Disabling daily seasonality. Run prophet with daily_seasonality=True to override this.\n"
     ]
    },
    {
     "name": "stdout",
     "output_type": "stream",
     "text": [
      "************************\n",
      "21\n"
     ]
    },
    {
     "name": "stderr",
     "output_type": "stream",
     "text": [
      "INFO:fbprophet:Disabling daily seasonality. Run prophet with daily_seasonality=True to override this.\n"
     ]
    },
    {
     "name": "stdout",
     "output_type": "stream",
     "text": [
      "************************\n",
      "22\n"
     ]
    },
    {
     "name": "stderr",
     "output_type": "stream",
     "text": [
      "INFO:fbprophet:Disabling daily seasonality. Run prophet with daily_seasonality=True to override this.\n"
     ]
    },
    {
     "name": "stdout",
     "output_type": "stream",
     "text": [
      "************************\n",
      "23\n"
     ]
    },
    {
     "name": "stderr",
     "output_type": "stream",
     "text": [
      "INFO:fbprophet:Disabling daily seasonality. Run prophet with daily_seasonality=True to override this.\n"
     ]
    },
    {
     "name": "stdout",
     "output_type": "stream",
     "text": [
      "************************\n",
      "24\n"
     ]
    },
    {
     "name": "stderr",
     "output_type": "stream",
     "text": [
      "INFO:fbprophet:Disabling daily seasonality. Run prophet with daily_seasonality=True to override this.\n"
     ]
    },
    {
     "name": "stdout",
     "output_type": "stream",
     "text": [
      "************************\n",
      "25\n"
     ]
    },
    {
     "name": "stderr",
     "output_type": "stream",
     "text": [
      "INFO:fbprophet:Disabling daily seasonality. Run prophet with daily_seasonality=True to override this.\n"
     ]
    },
    {
     "name": "stdout",
     "output_type": "stream",
     "text": [
      "************************\n",
      "26\n"
     ]
    },
    {
     "name": "stderr",
     "output_type": "stream",
     "text": [
      "INFO:fbprophet:Disabling daily seasonality. Run prophet with daily_seasonality=True to override this.\n"
     ]
    },
    {
     "name": "stdout",
     "output_type": "stream",
     "text": [
      "************************\n",
      "27\n"
     ]
    },
    {
     "name": "stderr",
     "output_type": "stream",
     "text": [
      "INFO:fbprophet:Disabling daily seasonality. Run prophet with daily_seasonality=True to override this.\n"
     ]
    },
    {
     "name": "stdout",
     "output_type": "stream",
     "text": [
      "************************\n",
      "28\n"
     ]
    },
    {
     "name": "stderr",
     "output_type": "stream",
     "text": [
      "INFO:fbprophet:Disabling daily seasonality. Run prophet with daily_seasonality=True to override this.\n"
     ]
    },
    {
     "name": "stdout",
     "output_type": "stream",
     "text": [
      "************************\n",
      "29\n"
     ]
    },
    {
     "name": "stderr",
     "output_type": "stream",
     "text": [
      "INFO:fbprophet:Disabling daily seasonality. Run prophet with daily_seasonality=True to override this.\n"
     ]
    },
    {
     "name": "stdout",
     "output_type": "stream",
     "text": [
      "************************\n",
      "30\n"
     ]
    },
    {
     "name": "stderr",
     "output_type": "stream",
     "text": [
      "INFO:fbprophet:Disabling daily seasonality. Run prophet with daily_seasonality=True to override this.\n"
     ]
    },
    {
     "name": "stdout",
     "output_type": "stream",
     "text": [
      "************************\n",
      "31\n"
     ]
    },
    {
     "name": "stderr",
     "output_type": "stream",
     "text": [
      "INFO:fbprophet:Disabling daily seasonality. Run prophet with daily_seasonality=True to override this.\n"
     ]
    },
    {
     "name": "stdout",
     "output_type": "stream",
     "text": [
      "************************\n",
      "32\n"
     ]
    },
    {
     "name": "stderr",
     "output_type": "stream",
     "text": [
      "INFO:fbprophet:Disabling daily seasonality. Run prophet with daily_seasonality=True to override this.\n"
     ]
    },
    {
     "name": "stdout",
     "output_type": "stream",
     "text": [
      "************************\n",
      "33\n"
     ]
    },
    {
     "name": "stderr",
     "output_type": "stream",
     "text": [
      "INFO:fbprophet:Disabling daily seasonality. Run prophet with daily_seasonality=True to override this.\n"
     ]
    },
    {
     "name": "stdout",
     "output_type": "stream",
     "text": [
      "************************\n",
      "34\n"
     ]
    },
    {
     "name": "stderr",
     "output_type": "stream",
     "text": [
      "INFO:fbprophet:Disabling daily seasonality. Run prophet with daily_seasonality=True to override this.\n"
     ]
    },
    {
     "name": "stdout",
     "output_type": "stream",
     "text": [
      "************************\n",
      "35\n"
     ]
    },
    {
     "name": "stderr",
     "output_type": "stream",
     "text": [
      "INFO:fbprophet:Disabling daily seasonality. Run prophet with daily_seasonality=True to override this.\n"
     ]
    },
    {
     "name": "stdout",
     "output_type": "stream",
     "text": [
      "************************\n",
      "36\n"
     ]
    },
    {
     "name": "stderr",
     "output_type": "stream",
     "text": [
      "INFO:fbprophet:Disabling daily seasonality. Run prophet with daily_seasonality=True to override this.\n"
     ]
    },
    {
     "name": "stdout",
     "output_type": "stream",
     "text": [
      "************************\n",
      "37\n"
     ]
    },
    {
     "name": "stderr",
     "output_type": "stream",
     "text": [
      "INFO:fbprophet:Disabling daily seasonality. Run prophet with daily_seasonality=True to override this.\n"
     ]
    },
    {
     "name": "stdout",
     "output_type": "stream",
     "text": [
      "************************\n",
      "38\n"
     ]
    },
    {
     "name": "stderr",
     "output_type": "stream",
     "text": [
      "INFO:fbprophet:Disabling daily seasonality. Run prophet with daily_seasonality=True to override this.\n"
     ]
    },
    {
     "name": "stdout",
     "output_type": "stream",
     "text": [
      "************************\n",
      "39\n"
     ]
    },
    {
     "name": "stderr",
     "output_type": "stream",
     "text": [
      "INFO:fbprophet:Disabling daily seasonality. Run prophet with daily_seasonality=True to override this.\n"
     ]
    },
    {
     "name": "stdout",
     "output_type": "stream",
     "text": [
      "************************\n",
      "40\n"
     ]
    },
    {
     "name": "stderr",
     "output_type": "stream",
     "text": [
      "INFO:fbprophet:Disabling daily seasonality. Run prophet with daily_seasonality=True to override this.\n"
     ]
    },
    {
     "name": "stdout",
     "output_type": "stream",
     "text": [
      "************************\n",
      "41\n"
     ]
    },
    {
     "name": "stderr",
     "output_type": "stream",
     "text": [
      "INFO:fbprophet:Disabling daily seasonality. Run prophet with daily_seasonality=True to override this.\n"
     ]
    },
    {
     "name": "stdout",
     "output_type": "stream",
     "text": [
      "************************\n",
      "42\n"
     ]
    },
    {
     "name": "stderr",
     "output_type": "stream",
     "text": [
      "INFO:fbprophet:Disabling daily seasonality. Run prophet with daily_seasonality=True to override this.\n"
     ]
    },
    {
     "name": "stdout",
     "output_type": "stream",
     "text": [
      "************************\n",
      "43\n"
     ]
    },
    {
     "name": "stderr",
     "output_type": "stream",
     "text": [
      "INFO:fbprophet:Disabling daily seasonality. Run prophet with daily_seasonality=True to override this.\n"
     ]
    },
    {
     "name": "stdout",
     "output_type": "stream",
     "text": [
      "************************\n",
      "44\n"
     ]
    },
    {
     "name": "stderr",
     "output_type": "stream",
     "text": [
      "INFO:fbprophet:Disabling daily seasonality. Run prophet with daily_seasonality=True to override this.\n"
     ]
    },
    {
     "name": "stdout",
     "output_type": "stream",
     "text": [
      "************************\n",
      "45\n"
     ]
    },
    {
     "name": "stderr",
     "output_type": "stream",
     "text": [
      "INFO:fbprophet:Disabling daily seasonality. Run prophet with daily_seasonality=True to override this.\n"
     ]
    },
    {
     "name": "stdout",
     "output_type": "stream",
     "text": [
      "************************\n",
      "46\n"
     ]
    },
    {
     "name": "stderr",
     "output_type": "stream",
     "text": [
      "INFO:fbprophet:Disabling daily seasonality. Run prophet with daily_seasonality=True to override this.\n"
     ]
    },
    {
     "name": "stdout",
     "output_type": "stream",
     "text": [
      "************************\n",
      "47\n"
     ]
    },
    {
     "name": "stderr",
     "output_type": "stream",
     "text": [
      "INFO:fbprophet:Disabling daily seasonality. Run prophet with daily_seasonality=True to override this.\n"
     ]
    },
    {
     "name": "stdout",
     "output_type": "stream",
     "text": [
      "************************\n",
      "48\n"
     ]
    },
    {
     "name": "stderr",
     "output_type": "stream",
     "text": [
      "INFO:fbprophet:Disabling daily seasonality. Run prophet with daily_seasonality=True to override this.\n"
     ]
    },
    {
     "name": "stdout",
     "output_type": "stream",
     "text": [
      "************************\n",
      "49\n"
     ]
    },
    {
     "name": "stderr",
     "output_type": "stream",
     "text": [
      "INFO:fbprophet:Disabling daily seasonality. Run prophet with daily_seasonality=True to override this.\n"
     ]
    },
    {
     "name": "stdout",
     "output_type": "stream",
     "text": [
      "************************\n",
      "50\n"
     ]
    },
    {
     "name": "stderr",
     "output_type": "stream",
     "text": [
      "INFO:fbprophet:Disabling daily seasonality. Run prophet with daily_seasonality=True to override this.\n"
     ]
    },
    {
     "name": "stdout",
     "output_type": "stream",
     "text": [
      "************************\n",
      "51\n"
     ]
    },
    {
     "name": "stderr",
     "output_type": "stream",
     "text": [
      "INFO:fbprophet:Disabling daily seasonality. Run prophet with daily_seasonality=True to override this.\n"
     ]
    },
    {
     "name": "stdout",
     "output_type": "stream",
     "text": [
      "************************\n",
      "52\n"
     ]
    },
    {
     "name": "stderr",
     "output_type": "stream",
     "text": [
      "INFO:fbprophet:Disabling daily seasonality. Run prophet with daily_seasonality=True to override this.\n"
     ]
    },
    {
     "name": "stdout",
     "output_type": "stream",
     "text": [
      "************************\n",
      "53\n"
     ]
    },
    {
     "name": "stderr",
     "output_type": "stream",
     "text": [
      "INFO:fbprophet:Disabling daily seasonality. Run prophet with daily_seasonality=True to override this.\n"
     ]
    },
    {
     "name": "stdout",
     "output_type": "stream",
     "text": [
      "************************\n",
      "54\n"
     ]
    },
    {
     "name": "stderr",
     "output_type": "stream",
     "text": [
      "INFO:fbprophet:Disabling daily seasonality. Run prophet with daily_seasonality=True to override this.\n"
     ]
    },
    {
     "name": "stdout",
     "output_type": "stream",
     "text": [
      "************************\n",
      "55\n"
     ]
    },
    {
     "name": "stderr",
     "output_type": "stream",
     "text": [
      "INFO:fbprophet:Disabling daily seasonality. Run prophet with daily_seasonality=True to override this.\n"
     ]
    },
    {
     "name": "stdout",
     "output_type": "stream",
     "text": [
      "************************\n",
      "56\n"
     ]
    },
    {
     "name": "stderr",
     "output_type": "stream",
     "text": [
      "INFO:fbprophet:Disabling daily seasonality. Run prophet with daily_seasonality=True to override this.\n"
     ]
    },
    {
     "name": "stdout",
     "output_type": "stream",
     "text": [
      "************************\n",
      "57\n"
     ]
    },
    {
     "name": "stderr",
     "output_type": "stream",
     "text": [
      "INFO:fbprophet:Disabling daily seasonality. Run prophet with daily_seasonality=True to override this.\n"
     ]
    },
    {
     "name": "stdout",
     "output_type": "stream",
     "text": [
      "************************\n",
      "58\n"
     ]
    },
    {
     "name": "stderr",
     "output_type": "stream",
     "text": [
      "INFO:fbprophet:Disabling daily seasonality. Run prophet with daily_seasonality=True to override this.\n"
     ]
    },
    {
     "name": "stdout",
     "output_type": "stream",
     "text": [
      "************************\n",
      "59\n"
     ]
    },
    {
     "name": "stderr",
     "output_type": "stream",
     "text": [
      "INFO:fbprophet:Disabling daily seasonality. Run prophet with daily_seasonality=True to override this.\n"
     ]
    },
    {
     "name": "stdout",
     "output_type": "stream",
     "text": [
      "************************\n",
      "60\n"
     ]
    },
    {
     "name": "stderr",
     "output_type": "stream",
     "text": [
      "INFO:fbprophet:Disabling daily seasonality. Run prophet with daily_seasonality=True to override this.\n"
     ]
    },
    {
     "name": "stdout",
     "output_type": "stream",
     "text": [
      "************************\n",
      "61\n"
     ]
    },
    {
     "name": "stderr",
     "output_type": "stream",
     "text": [
      "INFO:fbprophet:Disabling daily seasonality. Run prophet with daily_seasonality=True to override this.\n"
     ]
    },
    {
     "name": "stdout",
     "output_type": "stream",
     "text": [
      "************************\n",
      "62\n"
     ]
    },
    {
     "name": "stderr",
     "output_type": "stream",
     "text": [
      "INFO:fbprophet:Disabling daily seasonality. Run prophet with daily_seasonality=True to override this.\n"
     ]
    },
    {
     "name": "stdout",
     "output_type": "stream",
     "text": [
      "************************\n",
      "63\n"
     ]
    },
    {
     "name": "stderr",
     "output_type": "stream",
     "text": [
      "INFO:fbprophet:Disabling daily seasonality. Run prophet with daily_seasonality=True to override this.\n"
     ]
    },
    {
     "name": "stdout",
     "output_type": "stream",
     "text": [
      "************************\n",
      "64\n"
     ]
    },
    {
     "name": "stderr",
     "output_type": "stream",
     "text": [
      "INFO:fbprophet:Disabling daily seasonality. Run prophet with daily_seasonality=True to override this.\n"
     ]
    },
    {
     "name": "stdout",
     "output_type": "stream",
     "text": [
      "************************\n",
      "65\n"
     ]
    },
    {
     "name": "stderr",
     "output_type": "stream",
     "text": [
      "INFO:fbprophet:Disabling daily seasonality. Run prophet with daily_seasonality=True to override this.\n"
     ]
    },
    {
     "name": "stdout",
     "output_type": "stream",
     "text": [
      "************************\n",
      "66\n"
     ]
    },
    {
     "name": "stderr",
     "output_type": "stream",
     "text": [
      "INFO:fbprophet:Disabling daily seasonality. Run prophet with daily_seasonality=True to override this.\n"
     ]
    },
    {
     "name": "stdout",
     "output_type": "stream",
     "text": [
      "************************\n",
      "67\n"
     ]
    },
    {
     "name": "stderr",
     "output_type": "stream",
     "text": [
      "INFO:fbprophet:Disabling daily seasonality. Run prophet with daily_seasonality=True to override this.\n"
     ]
    },
    {
     "name": "stdout",
     "output_type": "stream",
     "text": [
      "************************\n",
      "68\n"
     ]
    },
    {
     "name": "stderr",
     "output_type": "stream",
     "text": [
      "INFO:fbprophet:Disabling daily seasonality. Run prophet with daily_seasonality=True to override this.\n"
     ]
    },
    {
     "name": "stdout",
     "output_type": "stream",
     "text": [
      "************************\n",
      "69\n"
     ]
    },
    {
     "name": "stderr",
     "output_type": "stream",
     "text": [
      "INFO:fbprophet:Disabling daily seasonality. Run prophet with daily_seasonality=True to override this.\n"
     ]
    },
    {
     "name": "stdout",
     "output_type": "stream",
     "text": [
      "************************\n",
      "70\n"
     ]
    },
    {
     "name": "stderr",
     "output_type": "stream",
     "text": [
      "INFO:fbprophet:Disabling daily seasonality. Run prophet with daily_seasonality=True to override this.\n"
     ]
    },
    {
     "name": "stdout",
     "output_type": "stream",
     "text": [
      "************************\n",
      "71\n"
     ]
    },
    {
     "name": "stderr",
     "output_type": "stream",
     "text": [
      "INFO:fbprophet:Disabling daily seasonality. Run prophet with daily_seasonality=True to override this.\n"
     ]
    },
    {
     "name": "stdout",
     "output_type": "stream",
     "text": [
      "************************\n",
      "72\n"
     ]
    },
    {
     "name": "stderr",
     "output_type": "stream",
     "text": [
      "INFO:fbprophet:Disabling daily seasonality. Run prophet with daily_seasonality=True to override this.\n"
     ]
    },
    {
     "name": "stdout",
     "output_type": "stream",
     "text": [
      "************************\n",
      "73\n"
     ]
    },
    {
     "name": "stderr",
     "output_type": "stream",
     "text": [
      "INFO:fbprophet:Disabling daily seasonality. Run prophet with daily_seasonality=True to override this.\n"
     ]
    },
    {
     "name": "stdout",
     "output_type": "stream",
     "text": [
      "************************\n",
      "74\n"
     ]
    },
    {
     "name": "stderr",
     "output_type": "stream",
     "text": [
      "INFO:fbprophet:Disabling daily seasonality. Run prophet with daily_seasonality=True to override this.\n"
     ]
    },
    {
     "name": "stdout",
     "output_type": "stream",
     "text": [
      "************************\n",
      "75\n"
     ]
    },
    {
     "name": "stderr",
     "output_type": "stream",
     "text": [
      "INFO:fbprophet:Disabling daily seasonality. Run prophet with daily_seasonality=True to override this.\n"
     ]
    },
    {
     "name": "stdout",
     "output_type": "stream",
     "text": [
      "************************\n",
      "76\n"
     ]
    },
    {
     "name": "stderr",
     "output_type": "stream",
     "text": [
      "INFO:fbprophet:Disabling daily seasonality. Run prophet with daily_seasonality=True to override this.\n"
     ]
    },
    {
     "name": "stdout",
     "output_type": "stream",
     "text": [
      "************************\n",
      "77\n"
     ]
    },
    {
     "name": "stderr",
     "output_type": "stream",
     "text": [
      "INFO:fbprophet:Disabling daily seasonality. Run prophet with daily_seasonality=True to override this.\n"
     ]
    },
    {
     "name": "stdout",
     "output_type": "stream",
     "text": [
      "************************\n",
      "78\n"
     ]
    },
    {
     "name": "stderr",
     "output_type": "stream",
     "text": [
      "INFO:fbprophet:Disabling daily seasonality. Run prophet with daily_seasonality=True to override this.\n"
     ]
    },
    {
     "name": "stdout",
     "output_type": "stream",
     "text": [
      "************************\n",
      "79\n"
     ]
    },
    {
     "name": "stderr",
     "output_type": "stream",
     "text": [
      "INFO:fbprophet:Disabling daily seasonality. Run prophet with daily_seasonality=True to override this.\n"
     ]
    },
    {
     "name": "stdout",
     "output_type": "stream",
     "text": [
      "************************\n",
      "80\n"
     ]
    },
    {
     "name": "stderr",
     "output_type": "stream",
     "text": [
      "INFO:fbprophet:Disabling daily seasonality. Run prophet with daily_seasonality=True to override this.\n"
     ]
    },
    {
     "name": "stdout",
     "output_type": "stream",
     "text": [
      "************************\n",
      "81\n"
     ]
    },
    {
     "name": "stderr",
     "output_type": "stream",
     "text": [
      "INFO:fbprophet:Disabling daily seasonality. Run prophet with daily_seasonality=True to override this.\n"
     ]
    },
    {
     "name": "stdout",
     "output_type": "stream",
     "text": [
      "************************\n",
      "82\n"
     ]
    },
    {
     "name": "stderr",
     "output_type": "stream",
     "text": [
      "INFO:fbprophet:Disabling daily seasonality. Run prophet with daily_seasonality=True to override this.\n"
     ]
    },
    {
     "name": "stdout",
     "output_type": "stream",
     "text": [
      "************************\n",
      "83\n"
     ]
    },
    {
     "name": "stderr",
     "output_type": "stream",
     "text": [
      "INFO:fbprophet:Disabling daily seasonality. Run prophet with daily_seasonality=True to override this.\n"
     ]
    },
    {
     "name": "stdout",
     "output_type": "stream",
     "text": [
      "************************\n",
      "84\n"
     ]
    },
    {
     "name": "stderr",
     "output_type": "stream",
     "text": [
      "INFO:fbprophet:Disabling daily seasonality. Run prophet with daily_seasonality=True to override this.\n"
     ]
    },
    {
     "name": "stdout",
     "output_type": "stream",
     "text": [
      "************************\n",
      "85\n"
     ]
    },
    {
     "name": "stderr",
     "output_type": "stream",
     "text": [
      "INFO:fbprophet:Disabling daily seasonality. Run prophet with daily_seasonality=True to override this.\n"
     ]
    },
    {
     "name": "stdout",
     "output_type": "stream",
     "text": [
      "************************\n",
      "86\n"
     ]
    },
    {
     "name": "stderr",
     "output_type": "stream",
     "text": [
      "INFO:fbprophet:Disabling daily seasonality. Run prophet with daily_seasonality=True to override this.\n"
     ]
    },
    {
     "name": "stdout",
     "output_type": "stream",
     "text": [
      "************************\n",
      "87\n"
     ]
    },
    {
     "name": "stderr",
     "output_type": "stream",
     "text": [
      "INFO:fbprophet:Disabling daily seasonality. Run prophet with daily_seasonality=True to override this.\n"
     ]
    },
    {
     "name": "stdout",
     "output_type": "stream",
     "text": [
      "************************\n",
      "88\n"
     ]
    },
    {
     "name": "stderr",
     "output_type": "stream",
     "text": [
      "INFO:fbprophet:Disabling daily seasonality. Run prophet with daily_seasonality=True to override this.\n"
     ]
    },
    {
     "name": "stdout",
     "output_type": "stream",
     "text": [
      "************************\n",
      "89\n"
     ]
    },
    {
     "name": "stderr",
     "output_type": "stream",
     "text": [
      "INFO:fbprophet:Disabling daily seasonality. Run prophet with daily_seasonality=True to override this.\n"
     ]
    },
    {
     "name": "stdout",
     "output_type": "stream",
     "text": [
      "************************\n",
      "90\n"
     ]
    },
    {
     "name": "stderr",
     "output_type": "stream",
     "text": [
      "INFO:fbprophet:Disabling daily seasonality. Run prophet with daily_seasonality=True to override this.\n"
     ]
    },
    {
     "name": "stdout",
     "output_type": "stream",
     "text": [
      "************************\n",
      "91\n"
     ]
    },
    {
     "name": "stderr",
     "output_type": "stream",
     "text": [
      "INFO:fbprophet:Disabling daily seasonality. Run prophet with daily_seasonality=True to override this.\n"
     ]
    },
    {
     "name": "stdout",
     "output_type": "stream",
     "text": [
      "************************\n",
      "92\n"
     ]
    },
    {
     "name": "stderr",
     "output_type": "stream",
     "text": [
      "INFO:fbprophet:Disabling daily seasonality. Run prophet with daily_seasonality=True to override this.\n"
     ]
    },
    {
     "name": "stdout",
     "output_type": "stream",
     "text": [
      "************************\n",
      "93\n"
     ]
    },
    {
     "name": "stderr",
     "output_type": "stream",
     "text": [
      "INFO:fbprophet:Disabling daily seasonality. Run prophet with daily_seasonality=True to override this.\n"
     ]
    },
    {
     "name": "stdout",
     "output_type": "stream",
     "text": [
      "************************\n",
      "94\n"
     ]
    },
    {
     "name": "stderr",
     "output_type": "stream",
     "text": [
      "INFO:fbprophet:Disabling daily seasonality. Run prophet with daily_seasonality=True to override this.\n"
     ]
    },
    {
     "name": "stdout",
     "output_type": "stream",
     "text": [
      "************************\n",
      "95\n"
     ]
    },
    {
     "name": "stderr",
     "output_type": "stream",
     "text": [
      "INFO:fbprophet:Disabling daily seasonality. Run prophet with daily_seasonality=True to override this.\n"
     ]
    },
    {
     "name": "stdout",
     "output_type": "stream",
     "text": [
      "************************\n",
      "96\n"
     ]
    },
    {
     "name": "stderr",
     "output_type": "stream",
     "text": [
      "INFO:fbprophet:Disabling daily seasonality. Run prophet with daily_seasonality=True to override this.\n"
     ]
    },
    {
     "name": "stdout",
     "output_type": "stream",
     "text": [
      "************************\n",
      "97\n"
     ]
    },
    {
     "name": "stderr",
     "output_type": "stream",
     "text": [
      "INFO:fbprophet:Disabling daily seasonality. Run prophet with daily_seasonality=True to override this.\n"
     ]
    },
    {
     "name": "stdout",
     "output_type": "stream",
     "text": [
      "************************\n",
      "98\n"
     ]
    },
    {
     "name": "stderr",
     "output_type": "stream",
     "text": [
      "INFO:fbprophet:Disabling daily seasonality. Run prophet with daily_seasonality=True to override this.\n"
     ]
    },
    {
     "name": "stdout",
     "output_type": "stream",
     "text": [
      "************************\n",
      "99\n"
     ]
    },
    {
     "name": "stderr",
     "output_type": "stream",
     "text": [
      "INFO:fbprophet:Disabling daily seasonality. Run prophet with daily_seasonality=True to override this.\n"
     ]
    },
    {
     "name": "stdout",
     "output_type": "stream",
     "text": [
      "************************\n",
      "100\n"
     ]
    },
    {
     "name": "stderr",
     "output_type": "stream",
     "text": [
      "INFO:fbprophet:Disabling daily seasonality. Run prophet with daily_seasonality=True to override this.\n"
     ]
    },
    {
     "name": "stdout",
     "output_type": "stream",
     "text": [
      "************************\n",
      "101\n"
     ]
    },
    {
     "name": "stderr",
     "output_type": "stream",
     "text": [
      "INFO:fbprophet:Disabling daily seasonality. Run prophet with daily_seasonality=True to override this.\n"
     ]
    },
    {
     "name": "stdout",
     "output_type": "stream",
     "text": [
      "************************\n",
      "102\n",
      "************************\n"
     ]
    }
   ],
   "source": [
    "from fbprophet import Prophet\n",
    "\n",
    "for one_stock in range(103):\n",
    "    print (one_stock)\n",
    "    d = {'y': train[train['stock']==one_stock]['Close'],'ds' : train[train['stock']==one_stock]['Date']}\n",
    "    df = pd.DataFrame(d)   \n",
    "    model = Prophet()\n",
    "    model.fit(df)                \n",
    "    d = {'ds' : test[test['stock']==one_stock]['Date']}\n",
    "    future = pd.DataFrame(d)\n",
    "    forecast = model.predict(future)\n",
    "    #print (forecast['yhat'])\n",
    "    test.loc[test['stock']==one_stock,'fbprophet'] = forecast['yhat'].values\n",
    "    #print (test[test['stock']==one_stock]['Close'])\n",
    "    #print (test[test['stock']==one_stock].head)\n",
    "    print (\"************************\")"
   ]
  },
  {
   "cell_type": "code",
   "execution_count": 43,
   "metadata": {},
   "outputs": [
    {
     "name": "stdout",
     "output_type": "stream",
     "text": [
      "Index(['ID', 'stock', 'Date', 'Open', 'High', 'Low', 'Close', 'holiday',\n",
      "       'unpredictability_score', 'year',\n",
      "       ...\n",
      "       'week_min_prev_4', 'week_max_prev_4', 'week_std_prev_4',\n",
      "       'week_mean_prev_8', 'week_median_prev_8', 'week_min_prev_8',\n",
      "       'week_max_prev_8', 'week_std_prev_8', 'lightgbm', 'fbprophet'],\n",
      "      dtype='object', length=118)\n",
      "<bound method NDFrame.describe of 0       116.207541\n",
      "1       116.399150\n",
      "2       117.404643\n",
      "3       117.871411\n",
      "4       118.260974\n",
      "           ...    \n",
      "4218    129.577622\n",
      "4219    125.935722\n",
      "4220    126.774561\n",
      "4221    130.922788\n",
      "4222    130.023494\n",
      "Name: lightgbm, Length: 4223, dtype: float64>\n",
      "<bound method NDFrame.describe of 0       119.868441\n",
      "1       120.542837\n",
      "2       120.903800\n",
      "3       121.169006\n",
      "4       121.551232\n",
      "           ...    \n",
      "4218    133.068740\n",
      "4219    133.083370\n",
      "4220    133.297479\n",
      "4221    133.411664\n",
      "4222    133.486280\n",
      "Name: fbprophet, Length: 4223, dtype: float64>\n"
     ]
    },
    {
     "name": "stderr",
     "output_type": "stream",
     "text": [
      "/Users/rgarzon/anaconda3/envs/vinya/lib/python3.7/site-packages/ipykernel/ipkernel.py:287: DeprecationWarning: `should_run_async` will not call `transform_cell` automatically in the future. Please pass the result to `transformed_cell` argument and any exception that happen during thetransform in `preprocessing_exc_tuple` in IPython 7.17 and above.\n",
      "  and should_run_async(code)\n"
     ]
    }
   ],
   "source": [
    "print (test.columns)\n",
    "print (test['lightgbm'].describe)\n",
    "print (test['fbprophet'].describe)"
   ]
  },
  {
   "cell_type": "code",
   "execution_count": 44,
   "metadata": {},
   "outputs": [],
   "source": [
    "test['Close'] = (test['lightgbm']+test['fbprophet'])/2"
   ]
  },
  {
   "cell_type": "code",
   "execution_count": 45,
   "metadata": {},
   "outputs": [
    {
     "name": "stdout",
     "output_type": "stream",
     "text": [
      "0\n"
     ]
    },
    {
     "data": {
      "text/plain": [
       "<bound method NDFrame.head of 0       118.037991\n",
       "1       118.470993\n",
       "2       119.154222\n",
       "3       119.520208\n",
       "4       119.906103\n",
       "           ...    \n",
       "4218    131.323181\n",
       "4219    129.509546\n",
       "4220    130.036020\n",
       "4221    132.167226\n",
       "4222    131.754887\n",
       "Name: Close, Length: 4223, dtype: float64>"
      ]
     },
     "execution_count": 45,
     "metadata": {},
     "output_type": "execute_result"
    }
   ],
   "source": [
    "print(test['Close'].isna().sum())\n",
    "test['Close'].head"
   ]
  },
  {
   "cell_type": "code",
   "execution_count": 46,
   "metadata": {},
   "outputs": [],
   "source": [
    "download_preds(test['Close'],'lightgbm_1ba474ee67e94b81acd97f80925fd051_v2.csv')"
   ]
  },
  {
   "cell_type": "code",
   "execution_count": null,
   "metadata": {},
   "outputs": [],
   "source": []
  }
 ],
 "metadata": {
  "kernelspec": {
   "display_name": "Python 3",
   "language": "python",
   "name": "python3"
  },
  "language_info": {
   "codemirror_mode": {
    "name": "ipython",
    "version": 3
   },
   "file_extension": ".py",
   "mimetype": "text/x-python",
   "name": "python",
   "nbconvert_exporter": "python",
   "pygments_lexer": "ipython3",
   "version": "3.7.9"
  }
 },
 "nbformat": 4,
 "nbformat_minor": 4
}
